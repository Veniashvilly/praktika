{
 "cells": [
  {
   "cell_type": "markdown",
   "id": "cfd3bfe8",
   "metadata": {},
   "source": [
    "**Задание 2: Автоматическое дифференцирование (25 баллов)** \\\n",
    "**2.1 Простые вычисления с градиентами (8 баллов)**"
   ]
  },
  {
   "cell_type": "code",
   "execution_count": null,
   "id": "e549ff79",
   "metadata": {},
   "outputs": [],
   "source": [
    "import torch"
   ]
  },
  {
   "cell_type": "code",
   "execution_count": 5,
   "id": "5b2d9023",
   "metadata": {},
   "outputs": [
    {
     "name": "stdout",
     "output_type": "stream",
     "text": [
      "x tensor([0.9407, 0.4009], requires_grad=True)\n",
      "y tensor([0.4875, 0.9949], requires_grad=True)\n",
      "z tensor([0.1093, 0.0363], requires_grad=True)\n",
      "tensor([1.9879, 0.8740])\n",
      "tensor([1.1805, 2.0190])\n",
      "tensor([1.1357, 0.8704])\n"
     ]
    }
   ],
   "source": [
    "x = torch.rand(2, requires_grad=True)\n",
    "y = torch.rand(2, requires_grad=True)\n",
    "z = torch.rand(2, requires_grad=True)\n",
    "f = (x**2 + y**2 + z**2 + 2*x*y*z).sum()\n",
    "f.backward()\n",
    "print(f'x {x}')\n",
    "print(f'y {y}')\n",
    "print(f'z {z}')\n",
    "print(x.grad)\n",
    "print(y.grad)\n",
    "print(z.grad)"
   ]
  },
  {
   "cell_type": "markdown",
   "id": "b2bae7d0",
   "metadata": {},
   "source": [
    "**Проверка результата** \\\n",
    "f(x,y,z) = x^2 + y^2 + z^2 + 2*x*y*z \\\n",
    "df/dx = 2x + 0 + 0 + 2yz = 2x + 2yz \\\n",
    "df/dy = 2y + 2xz \\\n",
    "df/dz = 2z + 2xy \\\n",
    "Подставим: \\\n",
    "**df/dx** = 2 * [0.9407, 0.4009] + 2 * [0.4875, 0.9949] * [0.1093, 0.0363] = [1.8814, 0.8018] + 2 * [0.0533, 0.0361] = \\\n",
    " = [1.8814, 0.8018] + [0.1066, 0.0722] = **[1.9880, 0.8740]** \\\n",
    "**df/dy** = 2 * [0.4875, 0.9949] + 2 * [0.9407, 0.4009] * [0.1093, 0.0363] = [0.9750, 1.9898] + 2 * [0.1029, 0.0146] = \\\n",
    " = [0.9750, 1.9898] + [0.2058, 0.0292] = **[1.1808, 2.0190]** \\\n",
    "**df/dz** = 2 * [0.1093, 0.0363] + 2 * [1.9879, 0.8740] * [1.1805, 2.0190] = [0.2186, 0.0726] + 2 * [0.4585, 0.3989] = \\\n",
    " = [0.2186, 0.0726] + [0.9170, 0.7978] = **[1.1356, 0.8704]** \\\n",
    "Результаты одинаковы."
   ]
  },
  {
   "cell_type": "markdown",
   "id": "bd317b5c",
   "metadata": {},
   "source": [
    "**2.2 Градиент функции потерь (9 баллов)**"
   ]
  },
  {
   "cell_type": "code",
   "execution_count": 12,
   "id": "35c4fd0d",
   "metadata": {},
   "outputs": [
    {
     "name": "stdout",
     "output_type": "stream",
     "text": [
      "tensor(112.4291)\n",
      "tensor(22.9556)\n"
     ]
    }
   ],
   "source": [
    "x = torch.randint(1, 10, (2,), dtype=torch.float32, requires_grad=True) #тензор x из случайных целых чисел от 1 до 9, размерностью (2,)\n",
    "y_true = torch.rand(2, requires_grad=True) #тензор y_true со случайными значениями от 0 до 1, размерностью (2,)\n",
    "w = torch.tensor(1.0, requires_grad=True)\n",
    "b = torch.tensor(2.0, requires_grad=True)\n",
    "y_pred = w * x + b\n",
    "# MSE = (1/n) * Σ(y_pred - y_true)^2\n",
    "mse = ((y_pred - y_true) ** 2).sum()\n",
    "mse.backward()\n",
    "print(w.grad)\n",
    "print(b.grad)"
   ]
  },
  {
   "cell_type": "markdown",
   "id": "684fc011",
   "metadata": {},
   "source": [
    "**2.3 Цепное правило (8 баллов)**"
   ]
  },
  {
   "cell_type": "code",
   "execution_count": 15,
   "id": "c35a0891",
   "metadata": {},
   "outputs": [
    {
     "name": "stdout",
     "output_type": "stream",
     "text": [
      "tensor(-0.8323)\n",
      "(tensor(-0.8323),)\n"
     ]
    }
   ],
   "source": [
    "x = torch.tensor(1.0, requires_grad=True) #создаем тензор\n",
    "f = torch.sin(x**2 + 1) #высчитываем функцию\n",
    "f.backward()\n",
    "print(x.grad)\n",
    "x.grad.zero_() #очищаем тензор\n",
    "f = torch.sin(x**2 + 1) #заново высчитываем функцию\n",
    "grad = torch.autograd.grad(f, x)\n",
    "print(grad)"
   ]
  },
  {
   "cell_type": "markdown",
   "id": "6515ae8b",
   "metadata": {},
   "source": [
    "**Ручная проверка** \\\n",
    "**df/dx** = 2x * cos(x^2+1) = 1*cos(2) = 2 * (-0.4161) = -0.8322"
   ]
  }
 ],
 "metadata": {
  "kernelspec": {
   "display_name": "venv",
   "language": "python",
   "name": "python3"
  },
  "language_info": {
   "codemirror_mode": {
    "name": "ipython",
    "version": 3
   },
   "file_extension": ".py",
   "mimetype": "text/x-python",
   "name": "python",
   "nbconvert_exporter": "python",
   "pygments_lexer": "ipython3",
   "version": "3.13.5"
  }
 },
 "nbformat": 4,
 "nbformat_minor": 5
}
