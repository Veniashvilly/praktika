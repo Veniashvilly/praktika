{
 "cells": [
  {
   "cell_type": "markdown",
   "id": "bc9c8be2",
   "metadata": {},
   "source": [
    "# Домашнее задание к уроку 1: Основы PyTorch\n",
    "\n",
    "**Цель задания**\n",
    "\n",
    "**Задание 1: Создание и манипуляции с тензорами (25 баллов)**\n",
    "\n",
    "\n",
    "**1.1 Создание тензоров (7 баллов)**\n"
   ]
  },
  {
   "cell_type": "code",
   "execution_count": 2,
   "id": "1a5e5dbf",
   "metadata": {},
   "outputs": [
    {
     "name": "stdout",
     "output_type": "stream",
     "text": [
      "tensor([[0.3875, 0.5233, 0.9148, 0.6759],\n",
      "        [0.8672, 0.9119, 0.8236, 0.6304],\n",
      "        [0.3133, 0.0824, 0.1708, 0.4995]])\n",
      "tensor([[[0., 0., 0., 0.],\n",
      "         [0., 0., 0., 0.],\n",
      "         [0., 0., 0., 0.]],\n",
      "\n",
      "        [[0., 0., 0., 0.],\n",
      "         [0., 0., 0., 0.],\n",
      "         [0., 0., 0., 0.]]])\n",
      "tensor([[1., 1., 1., 1., 1.],\n",
      "        [1., 1., 1., 1., 1.],\n",
      "        [1., 1., 1., 1., 1.],\n",
      "        [1., 1., 1., 1., 1.],\n",
      "        [1., 1., 1., 1., 1.]])\n",
      "tensor([[ 0,  1,  2,  3],\n",
      "        [ 4,  5,  6,  7],\n",
      "        [ 8,  9, 10, 11],\n",
      "        [12, 13, 14, 15]])\n"
     ]
    }
   ],
   "source": [
    "import torch\n",
    "tensor1 = torch.rand(3, 4)\n",
    "tensor2 = torch.zeros(2, 3, 4)\n",
    "tensor3 = torch.ones(5, 5)\n",
    "tensor4 = torch.arange(16).reshape(4, 4)\n",
    "print(tensor1)\n",
    "print(tensor2)\n",
    "print(tensor3)\n",
    "print(tensor4)"
   ]
  },
  {
   "cell_type": "markdown",
   "id": "66cf2506",
   "metadata": {},
   "source": [
    "**1.2 Операции с тензорами (6 баллов)**"
   ]
  },
  {
   "cell_type": "code",
   "execution_count": 6,
   "id": "67c3a6d3",
   "metadata": {},
   "outputs": [
    {
     "name": "stdout",
     "output_type": "stream",
     "text": [
      "tensor([[0.8978, 0.1595, 0.3566, 0.3068],\n",
      "        [0.7522, 0.1738, 0.1157, 0.3482],\n",
      "        [0.9595, 0.5632, 0.6350, 0.5358]])\n",
      "tensor([[0.8844, 0.7155, 0.7917],\n",
      "        [0.3481, 0.7835, 0.8502],\n",
      "        [0.9246, 0.6858, 0.8403],\n",
      "        [0.7907, 0.8700, 0.1376]])\n",
      "tensor([[0.8978, 0.7522, 0.9595],\n",
      "        [0.1595, 0.1738, 0.5632],\n",
      "        [0.3566, 0.1157, 0.6350],\n",
      "        [0.3068, 0.3482, 0.5358]])\n",
      "tensor([[1.4218, 1.2788, 1.1883],\n",
      "        [1.1080, 1.0566, 0.8884],\n",
      "        [2.0554, 2.0294, 1.8458]])\n",
      "tensor([[0.7940, 0.0555, 0.3297, 0.2426],\n",
      "        [0.5382, 0.1362, 0.0793, 0.3029],\n",
      "        [0.7597, 0.4788, 0.5336, 0.0737]])\n",
      "tensor(5.8041)\n"
     ]
    }
   ],
   "source": [
    "A = torch.rand(3, 4)\n",
    "B = torch.rand(4, 3)\n",
    "T_A = A.T #Транспонируем\n",
    "dot = A @ B #Матричное умножение\n",
    "mul = A * B.T #Поэлементное умножение\n",
    "sm = A.sum() #Сумма всех элементов\n",
    "print(A)\n",
    "print(B)\n",
    "print(T_A)\n",
    "print(dot)\n",
    "print(mul)\n",
    "print(sm)"
   ]
  },
  {
   "cell_type": "markdown",
   "id": "45d7ee7d",
   "metadata": {},
   "source": [
    "**1.3 Индексация и срезы (6 баллов)**"
   ]
  },
  {
   "cell_type": "code",
   "execution_count": 11,
   "id": "d5262675",
   "metadata": {},
   "outputs": [
    {
     "name": "stdout",
     "output_type": "stream",
     "text": [
      "tensor([[ 0,  1,  2,  3,  4],\n",
      "        [ 5,  6,  7,  8,  9],\n",
      "        [10, 11, 12, 13, 14],\n",
      "        [15, 16, 17, 18, 19],\n",
      "        [20, 21, 22, 23, 24]])\n",
      "tensor([[  4,   9,  14,  19,  24],\n",
      "        [ 29,  34,  39,  44,  49],\n",
      "        [ 54,  59,  64,  69,  74],\n",
      "        [ 79,  84,  89,  94,  99],\n",
      "        [104, 109, 114, 119, 124]])\n",
      "tensor([[56, 57],\n",
      "        [61, 62]])\n",
      "tensor([[[  0,   2,   4],\n",
      "         [ 10,  12,  14],\n",
      "         [ 20,  22,  24]],\n",
      "\n",
      "        [[ 50,  52,  54],\n",
      "         [ 60,  62,  64],\n",
      "         [ 70,  72,  74]],\n",
      "\n",
      "        [[100, 102, 104],\n",
      "         [110, 112, 114],\n",
      "         [120, 122, 124]]])\n"
     ]
    }
   ],
   "source": [
    "tensor = torch.arange(125).reshape(5, 5, 5) #матрица 5x5x5 от 0 до 124\n",
    "first_row = tensor[0] #берем первую строку\n",
    "last_col = tensor[:, :, -1] #берем последний столбец\n",
    "cntr = tensor[2, 1:3, 1:3] #берем Подматрицу размером 2x2 из центра тензора\n",
    "even = tensor[::2, ::2, ::2] #берем Все элементы с четными индексами\n",
    "print(first_row)\n",
    "print(last_col)\n",
    "print(cntr)\n",
    "print(even)"
   ]
  },
  {
   "cell_type": "markdown",
   "id": "b0db476c",
   "metadata": {},
   "source": [
    "**1.4 Работа с формами (6 баллов)**"
   ]
  },
  {
   "cell_type": "code",
   "execution_count": 10,
   "id": "9693471d",
   "metadata": {},
   "outputs": [
    {
     "name": "stdout",
     "output_type": "stream",
     "text": [
      "tensor([[-0.4246,  0.3795,  0.3515, -0.3642,  0.7468, -0.3539,  1.4591,  0.2743,\n",
      "          0.1225,  2.4178,  0.8515,  1.4474],\n",
      "        [ 1.4324, -0.5123, -1.7494,  0.0270, -0.0557,  0.5359, -0.6298,  1.1441,\n",
      "         -0.1826,  0.6526, -1.7132, -1.2998]])\n",
      "tensor([[-0.4246,  0.3795,  0.3515, -0.3642,  0.7468, -0.3539,  1.4591,  0.2743],\n",
      "        [ 0.1225,  2.4178,  0.8515,  1.4474,  1.4324, -0.5123, -1.7494,  0.0270],\n",
      "        [-0.0557,  0.5359, -0.6298,  1.1441, -0.1826,  0.6526, -1.7132, -1.2998]])\n",
      "tensor([[-0.4246,  0.3795,  0.3515, -0.3642,  0.7468, -0.3539],\n",
      "        [ 1.4591,  0.2743,  0.1225,  2.4178,  0.8515,  1.4474],\n",
      "        [ 1.4324, -0.5123, -1.7494,  0.0270, -0.0557,  0.5359],\n",
      "        [-0.6298,  1.1441, -0.1826,  0.6526, -1.7132, -1.2998]])\n",
      "tensor([[[-0.4246,  0.3795,  0.3515, -0.3642],\n",
      "         [ 0.7468, -0.3539,  1.4591,  0.2743],\n",
      "         [ 0.1225,  2.4178,  0.8515,  1.4474]],\n",
      "\n",
      "        [[ 1.4324, -0.5123, -1.7494,  0.0270],\n",
      "         [-0.0557,  0.5359, -0.6298,  1.1441],\n",
      "         [-0.1826,  0.6526, -1.7132, -1.2998]]])\n",
      "tensor([[[[-0.4246,  0.3795,  0.3515],\n",
      "          [-0.3642,  0.7468, -0.3539]],\n",
      "\n",
      "         [[ 1.4591,  0.2743,  0.1225],\n",
      "          [ 2.4178,  0.8515,  1.4474]]],\n",
      "\n",
      "\n",
      "        [[[ 1.4324, -0.5123, -1.7494],\n",
      "          [ 0.0270, -0.0557,  0.5359]],\n",
      "\n",
      "         [[-0.6298,  1.1441, -0.1826],\n",
      "          [ 0.6526, -1.7132, -1.2998]]]])\n"
     ]
    }
   ],
   "source": [
    "ten = torch.randn(24)\n",
    "nten1= ten.reshape(2, 12) #изменяем размер матрицы на 2x12\n",
    "nten2 = ten.reshape(3, 8)\n",
    "nten3  = ten.reshape(4, 6)\n",
    "nten4 = ten.reshape(2, 3, 4)\n",
    "nten5 = ten.reshape(2, 2, 2, 3)\n",
    "print(nten1)\n",
    "print(nten2)\n",
    "print(nten3)\n",
    "print(nten4)\n",
    "print(nten5)"
   ]
  },
  {
   "cell_type": "markdown",
   "id": "cfd3bfe8",
   "metadata": {},
   "source": [
    "**Задание 2: Автоматическое дифференцирование (25 баллов)** \\\n",
    "**2.1 Простые вычисления с градиентами (8 баллов)**"
   ]
  },
  {
   "cell_type": "code",
   "execution_count": 5,
   "id": "5b2d9023",
   "metadata": {},
   "outputs": [
    {
     "name": "stdout",
     "output_type": "stream",
     "text": [
      "x tensor([0.9407, 0.4009], requires_grad=True)\n",
      "y tensor([0.4875, 0.9949], requires_grad=True)\n",
      "z tensor([0.1093, 0.0363], requires_grad=True)\n",
      "tensor([1.9879, 0.8740])\n",
      "tensor([1.1805, 2.0190])\n",
      "tensor([1.1357, 0.8704])\n"
     ]
    }
   ],
   "source": [
    "x = torch.rand(2, requires_grad=True)\n",
    "y = torch.rand(2, requires_grad=True)\n",
    "z = torch.rand(2, requires_grad=True)\n",
    "f = (x**2 + y**2 + z**2 + 2*x*y*z).sum()\n",
    "f.backward()\n",
    "print(f'x {x}')\n",
    "print(f'y {y}')\n",
    "print(f'z {z}')\n",
    "print(x.grad)\n",
    "print(y.grad)\n",
    "print(z.grad)"
   ]
  },
  {
   "cell_type": "markdown",
   "id": "b2bae7d0",
   "metadata": {},
   "source": [
    "**Проверка результата** \\\n",
    "f(x,y,z) = x^2 + y^2 + z^2 + 2*x*y*z \\\n",
    "df/dx = 2x + 0 + 0 + 2yz = 2x + 2yz \\\n",
    "df/dy = 2y + 2xz \\\n",
    "df/dz = 2z + 2xy \\\n",
    "Подставим: \\\n",
    "**df/dx** = 2 * [0.9407, 0.4009] + 2 * [0.4875, 0.9949] * [0.1093, 0.0363] = [1.8814, 0.8018] + 2 * [0.0533, 0.0361] = \\\n",
    " = [1.8814, 0.8018] + [0.1066, 0.0722] = **[1.9880, 0.8740]** \\\n",
    "**df/dy** = 2 * [0.4875, 0.9949] + 2 * [0.9407, 0.4009] * [0.1093, 0.0363] = [0.9750, 1.9898] + 2 * [0.1029, 0.0146] = \\\n",
    " = [0.9750, 1.9898] + [0.2058, 0.0292] = **[1.1808, 2.0190]** \\\n",
    "**df/dz** = 2 * [0.1093, 0.0363] + 2 * [1.9879, 0.8740] * [1.1805, 2.0190] = [0.2186, 0.0726] + 2 * [0.4585, 0.3989] = \\\n",
    " = [0.2186, 0.0726] + [0.9170, 0.7978] = **[1.1356, 0.8704]** \\\n",
    "Результаты одинаковы."
   ]
  },
  {
   "cell_type": "markdown",
   "id": "bd317b5c",
   "metadata": {},
   "source": [
    "**2.2 Градиент функции потерь (9 баллов)**"
   ]
  },
  {
   "cell_type": "code",
   "execution_count": 12,
   "id": "35c4fd0d",
   "metadata": {},
   "outputs": [
    {
     "name": "stdout",
     "output_type": "stream",
     "text": [
      "tensor(112.4291)\n",
      "tensor(22.9556)\n"
     ]
    }
   ],
   "source": [
    "x = torch.randint(1, 10, (2,), dtype=torch.float32, requires_grad=True) #тензор x из случайных целых чисел от 1 до 9, размерностью (2,)\n",
    "y_true = torch.rand(2, requires_grad=True) #тензор y_true со случайными значениями от 0 до 1, размерностью (2,)\n",
    "w = torch.tensor(1.0, requires_grad=True)\n",
    "b = torch.tensor(2.0, requires_grad=True)\n",
    "y_pred = w * x + b\n",
    "# MSE = (1/n) * Σ(y_pred - y_true)^2\n",
    "mse = ((y_pred - y_true) ** 2).sum()\n",
    "mse.backward()\n",
    "print(w.grad)\n",
    "print(b.grad)"
   ]
  },
  {
   "cell_type": "markdown",
   "id": "684fc011",
   "metadata": {},
   "source": [
    "**2.3 Цепное правило (8 баллов)**"
   ]
  },
  {
   "cell_type": "code",
   "execution_count": 15,
   "id": "c35a0891",
   "metadata": {},
   "outputs": [
    {
     "name": "stdout",
     "output_type": "stream",
     "text": [
      "tensor(-0.8323)\n",
      "(tensor(-0.8323),)\n"
     ]
    }
   ],
   "source": [
    "x = torch.tensor(1.0, requires_grad=True) #создаем тензор\n",
    "f = torch.sin(x**2 + 1) #высчитываем функцию\n",
    "f.backward()\n",
    "print(x.grad)\n",
    "x.grad.zero_() #очищаем тензор\n",
    "f = torch.sin(x**2 + 1) #заново высчитываем функцию\n",
    "grad = torch.autograd.grad(f, x)\n",
    "print(grad)"
   ]
  },
  {
   "cell_type": "markdown",
   "id": "6515ae8b",
   "metadata": {},
   "source": [
    "**Ручная проверка** \\\n",
    "**df/dx** = 2x * cos(x^2+1) = 1*cos(2) = 2 * (-0.4161) = -0.8322"
   ]
  },
  {
   "cell_type": "markdown",
   "id": "cb2105a4",
   "metadata": {},
   "source": [
    "**Задание 3: Сравнение производительности CPU vs CUDA (20 баллов)** \\\n",
    "**3.1 Подготовка данных (5 баллов)**"
   ]
  },
  {
   "cell_type": "code",
   "execution_count": 16,
   "id": "2985c552",
   "metadata": {},
   "outputs": [],
   "source": [
    "tensor1 = torch.rand(64, 1024, 1024)# Матрица размером 64 × 1024 × 1024, заполненная случайными числами от 0 до 1\n",
    "tensor2 = torch.rand(128, 512, 512)\n",
    "tensor3 = torch.rand(256, 256, 256)"
   ]
  },
  {
   "cell_type": "markdown",
   "id": "f45819cc",
   "metadata": {},
   "source": [
    "**3.2 Функция измерения времени (5 баллов)**"
   ]
  },
  {
   "cell_type": "code",
   "execution_count": 19,
   "id": "fffc9822",
   "metadata": {},
   "outputs": [],
   "source": [
    "import time\n",
    "\n",
    "def time_cpu(func, *args):\n",
    "    \"\"\"\n",
    "    Измеряет время выполнения операции на CPU\n",
    "    \"\"\"\n",
    "    start = time.time() #начала выполнения функции\n",
    "    func(*args)  #вызываем функцию\n",
    "    end = time.time() #время окончания\n",
    "    return end - start\n",
    "def time_gpu(func, *args):\n",
    "    \"\"\"\n",
    "    Измеряет время выполнения операции на GPU \n",
    "    \"\"\"\n",
    "    start = torch.cuda.Event(enable_timing=True)\n",
    "    end = torch.cuda.Event(enable_timing=True)\n",
    "    \n",
    "    start.record() #начала выполнения функции\n",
    "    func(*args) #вызываем функцию\n",
    "    end.record() #фиксируем момент сразу ПОСЛЕ вызова операции\n",
    "    \n",
    "    torch.cuda.synchronize()  # ждём завершения всех операций на GPU\n",
    "    return start.elapsed_time(end) / 1000  # возвращаем время в секундах"
   ]
  },
  {
   "cell_type": "markdown",
   "id": "cf5905b1",
   "metadata": {},
   "source": [
    "**3.3 Сравнение операций (10 баллов)**"
   ]
  },
  {
   "cell_type": "code",
   "execution_count": 26,
   "id": "1dd01008",
   "metadata": {},
   "outputs": [
    {
     "name": "stdout",
     "output_type": "stream",
     "text": [
      "Операция                  |   CPU (мс) |   GPU (мс) |  Ускорение\n",
      "------------------------------------------------------------\n",
      "Мат. умножение            |     698.88 |      92.24 |       7.58x\n",
      "Сложение                  |      58.08 |       5.92 |       9.81x\n",
      "Поэлементное умножение    |      40.95 |       5.89 |       6.95x\n",
      "Транспонирование          |       0.04 |       0.00 |      19.21x\n",
      "Сумма элементов           |       9.89 |       1.54 |       6.42x\n"
     ]
    }
   ],
   "source": [
    "tensor1 = torch.rand(64, 1024, 1024)#поменял размеры тензоров, потому что невозможно умножение двух матриц, где столбец первой не соответствует строке второй и тд\n",
    "tensor2 = torch.rand(64, 1024, 1024)    \n",
    "tensor3 = torch.rand(64, 1024, 1024)    \n",
    "def matmul_op(a, b):\n",
    "    \"\"\"\n",
    "    Матричное умножение\n",
    "    \"\"\"\n",
    "    return torch.matmul(a,b)\n",
    "\n",
    "def add_op(a, b):\n",
    "    \"\"\"\n",
    "    Поэлементное сложение\n",
    "    \"\"\"\n",
    "    return a + b\n",
    "\n",
    "def mul_op(a, b):\n",
    "    \"\"\"\n",
    "    Поэлементное умножение\n",
    "    \"\"\"\n",
    "    return a * b\n",
    "\n",
    "def transpose_op(a):\n",
    "    \"\"\"\n",
    "    Транспонирование\n",
    "    \"\"\"\n",
    "    return a.T\n",
    "\n",
    "def sum_op(a):\n",
    "    \"\"\"\n",
    "    Вычисление суммы всех элементов\n",
    "    \"\"\"\n",
    "    return a.sum()\n",
    "\n",
    "device = 'CPU'\n",
    "\n",
    "results_CPU = {\n",
    "    \"Мат. умножение\": time_cpu(matmul_op, tensor1, tensor2),\n",
    "    \"Сложение\": time_cpu(add_op, tensor2, tensor3),\n",
    "    \"Поэлементное умножение\": time_cpu(mul_op, tensor2, tensor3),\n",
    "    \"Транспонирование\": time_cpu(transpose_op, tensor1),\n",
    "    \"Сумма элементов\": time_cpu(sum_op, tensor3),\n",
    "}\n",
    "\n",
    "device = 'cuda'\n",
    "t1 = tensor1.to(device)\n",
    "t2 = tensor2.to(device)\n",
    "t3 = tensor3.to(device)\n",
    "\n",
    "results_GPU = {\n",
    "    \"Мат. умножение\": time_gpu(matmul_op, t1, t2),\n",
    "    \"Сложение\": time_gpu(add_op, t2, t3),\n",
    "    \"Поэлементное умножение\": time_gpu(mul_op, t2, t3),\n",
    "    \"Транспонирование\": time_gpu(transpose_op, t1),\n",
    "    \"Сумма элементов\": time_gpu(sum_op, t3),\n",
    "}\n",
    "print(f\"{'Операция':<25} | {'CPU (мс)':>10} | {'GPU (мс)':>10} | {'Ускорение':>10}\")\n",
    "print(\"-\" * 60)\n",
    "for key in results_CPU:\n",
    "    cpu_time_ms = results_CPU[key] * 1000\n",
    "    gpu_time_ms = results_GPU[key] * 1000\n",
    "    speedup = cpu_time_ms / gpu_time_ms\n",
    "    print(f\"{key:<25} | {cpu_time_ms:10.2f} | {gpu_time_ms:10.2f} | {speedup:10.2f}x\")\n",
    "\n"
   ]
  },
  {
   "cell_type": "code",
   "execution_count": null,
   "id": "b01eb519",
   "metadata": {},
   "outputs": [],
   "source": []
  }
 ],
 "metadata": {
  "kernelspec": {
   "display_name": "venv",
   "language": "python",
   "name": "python3"
  },
  "language_info": {
   "codemirror_mode": {
    "name": "ipython",
    "version": 3
   },
   "file_extension": ".py",
   "mimetype": "text/x-python",
   "name": "python",
   "nbconvert_exporter": "python",
   "pygments_lexer": "ipython3",
   "version": "3.13.5"
  }
 },
 "nbformat": 4,
 "nbformat_minor": 5
}
