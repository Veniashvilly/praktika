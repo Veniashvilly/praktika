{
 "cells": [
  {
   "cell_type": "markdown",
   "id": "4da64604",
   "metadata": {},
   "source": [
    "**Задание 2: Эксперименты с шириной сети (25 баллов)**\\\n",
    "**Создайте файл homework_width_experiments.py:**\\\n",
    "**2.1 Сравнение моделей разной ширины (15 баллов)**"
   ]
  },
  {
   "cell_type": "code",
   "execution_count": 1,
   "id": "3b76c6d7",
   "metadata": {},
   "outputs": [
    {
     "name": "stdout",
     "output_type": "stream",
     "text": [
      "Модель: narrow\n",
      "Ширина слоёв: [64, 32, 16]\n"
     ]
    },
    {
     "name": "stderr",
     "output_type": "stream",
     "text": [
      "100%|██████████| 938/938 [00:16<00:00, 58.08it/s]\n",
      "100%|██████████| 157/157 [00:02<00:00, 66.06it/s]\n"
     ]
    },
    {
     "name": "stdout",
     "output_type": "stream",
     "text": [
      "Epoch 1/5:\n",
      "Train Loss: 0.4000, Train Acc: 0.8787\n",
      "Test Loss: 0.1693, Test Acc: 0.9495\n",
      "--------------------------------------------------\n"
     ]
    },
    {
     "name": "stderr",
     "output_type": "stream",
     "text": [
      "100%|██████████| 938/938 [00:16<00:00, 58.24it/s]\n",
      "100%|██████████| 157/157 [00:02<00:00, 67.66it/s]\n"
     ]
    },
    {
     "name": "stdout",
     "output_type": "stream",
     "text": [
      "Epoch 2/5:\n",
      "Train Loss: 0.1526, Train Acc: 0.9546\n",
      "Test Loss: 0.1314, Test Acc: 0.9587\n",
      "--------------------------------------------------\n"
     ]
    },
    {
     "name": "stderr",
     "output_type": "stream",
     "text": [
      "100%|██████████| 938/938 [00:15<00:00, 59.17it/s]\n",
      "100%|██████████| 157/157 [00:02<00:00, 65.80it/s]\n"
     ]
    },
    {
     "name": "stdout",
     "output_type": "stream",
     "text": [
      "Epoch 3/5:\n",
      "Train Loss: 0.1152, Train Acc: 0.9644\n",
      "Test Loss: 0.1236, Test Acc: 0.9613\n",
      "--------------------------------------------------\n"
     ]
    },
    {
     "name": "stderr",
     "output_type": "stream",
     "text": [
      "100%|██████████| 938/938 [00:15<00:00, 59.30it/s]\n",
      "100%|██████████| 157/157 [00:02<00:00, 67.36it/s]\n"
     ]
    },
    {
     "name": "stdout",
     "output_type": "stream",
     "text": [
      "Epoch 4/5:\n",
      "Train Loss: 0.0937, Train Acc: 0.9724\n",
      "Test Loss: 0.1001, Test Acc: 0.9696\n",
      "--------------------------------------------------\n"
     ]
    },
    {
     "name": "stderr",
     "output_type": "stream",
     "text": [
      "100%|██████████| 938/938 [00:15<00:00, 59.12it/s]\n",
      "100%|██████████| 157/157 [00:02<00:00, 65.96it/s]\n"
     ]
    },
    {
     "name": "stdout",
     "output_type": "stream",
     "text": [
      "Epoch 5/5:\n",
      "Train Loss: 0.0768, Train Acc: 0.9764\n",
      "Test Loss: 0.1010, Test Acc: 0.9683\n",
      "--------------------------------------------------\n",
      "Time:91.61 секунд\n",
      "Paramete53018\n",
      "Модель: medium\n",
      "Ширина слоёв: [256, 128, 64]\n"
     ]
    },
    {
     "name": "stderr",
     "output_type": "stream",
     "text": [
      "100%|██████████| 938/938 [00:17<00:00, 53.48it/s]\n",
      "100%|██████████| 157/157 [00:02<00:00, 66.80it/s]\n"
     ]
    },
    {
     "name": "stdout",
     "output_type": "stream",
     "text": [
      "Epoch 1/5:\n",
      "Train Loss: 0.2558, Train Acc: 0.9217\n",
      "Test Loss: 0.1268, Test Acc: 0.9603\n",
      "--------------------------------------------------\n"
     ]
    },
    {
     "name": "stderr",
     "output_type": "stream",
     "text": [
      "100%|██████████| 938/938 [00:17<00:00, 54.01it/s]\n",
      "100%|██████████| 157/157 [00:02<00:00, 71.98it/s]\n"
     ]
    },
    {
     "name": "stdout",
     "output_type": "stream",
     "text": [
      "Epoch 2/5:\n",
      "Train Loss: 0.1007, Train Acc: 0.9690\n",
      "Test Loss: 0.1055, Test Acc: 0.9691\n",
      "--------------------------------------------------\n"
     ]
    },
    {
     "name": "stderr",
     "output_type": "stream",
     "text": [
      "100%|██████████| 938/938 [00:17<00:00, 52.85it/s]\n",
      "100%|██████████| 157/157 [00:02<00:00, 64.36it/s]\n"
     ]
    },
    {
     "name": "stdout",
     "output_type": "stream",
     "text": [
      "Epoch 3/5:\n",
      "Train Loss: 0.0714, Train Acc: 0.9784\n",
      "Test Loss: 0.0748, Test Acc: 0.9778\n",
      "--------------------------------------------------\n"
     ]
    },
    {
     "name": "stderr",
     "output_type": "stream",
     "text": [
      "100%|██████████| 938/938 [00:16<00:00, 58.33it/s]\n",
      "100%|██████████| 157/157 [00:02<00:00, 68.15it/s]\n"
     ]
    },
    {
     "name": "stdout",
     "output_type": "stream",
     "text": [
      "Epoch 4/5:\n",
      "Train Loss: 0.0556, Train Acc: 0.9818\n",
      "Test Loss: 0.0948, Test Acc: 0.9718\n",
      "--------------------------------------------------\n"
     ]
    },
    {
     "name": "stderr",
     "output_type": "stream",
     "text": [
      "100%|██████████| 938/938 [00:16<00:00, 55.84it/s]\n",
      "100%|██████████| 157/157 [00:02<00:00, 67.04it/s]\n"
     ]
    },
    {
     "name": "stdout",
     "output_type": "stream",
     "text": [
      "Epoch 5/5:\n",
      "Train Loss: 0.0424, Train Acc: 0.9868\n",
      "Test Loss: 0.0826, Test Acc: 0.9764\n",
      "--------------------------------------------------\n",
      "Time:97.17 секунд\n",
      "Paramete242762\n",
      "Модель: wide\n",
      "Ширина слоёв: [1024, 512, 256]\n"
     ]
    },
    {
     "name": "stderr",
     "output_type": "stream",
     "text": [
      "100%|██████████| 938/938 [00:18<00:00, 50.92it/s]\n",
      "100%|██████████| 157/157 [00:02<00:00, 63.64it/s]\n"
     ]
    },
    {
     "name": "stdout",
     "output_type": "stream",
     "text": [
      "Epoch 1/5:\n",
      "Train Loss: 0.2056, Train Acc: 0.9367\n",
      "Test Loss: 0.1137, Test Acc: 0.9643\n",
      "--------------------------------------------------\n"
     ]
    },
    {
     "name": "stderr",
     "output_type": "stream",
     "text": [
      "100%|██████████| 938/938 [00:19<00:00, 48.71it/s]\n",
      "100%|██████████| 157/157 [00:02<00:00, 66.66it/s]\n"
     ]
    },
    {
     "name": "stdout",
     "output_type": "stream",
     "text": [
      "Epoch 2/5:\n",
      "Train Loss: 0.0924, Train Acc: 0.9728\n",
      "Test Loss: 0.0841, Test Acc: 0.9735\n",
      "--------------------------------------------------\n"
     ]
    },
    {
     "name": "stderr",
     "output_type": "stream",
     "text": [
      "100%|██████████| 938/938 [00:19<00:00, 48.50it/s]\n",
      "100%|██████████| 157/157 [00:02<00:00, 66.22it/s]\n"
     ]
    },
    {
     "name": "stdout",
     "output_type": "stream",
     "text": [
      "Epoch 3/5:\n",
      "Train Loss: 0.0674, Train Acc: 0.9798\n",
      "Test Loss: 0.0955, Test Acc: 0.9745\n",
      "--------------------------------------------------\n"
     ]
    },
    {
     "name": "stderr",
     "output_type": "stream",
     "text": [
      "100%|██████████| 938/938 [00:19<00:00, 48.61it/s]\n",
      "100%|██████████| 157/157 [00:02<00:00, 65.83it/s]\n"
     ]
    },
    {
     "name": "stdout",
     "output_type": "stream",
     "text": [
      "Epoch 4/5:\n",
      "Train Loss: 0.0526, Train Acc: 0.9833\n",
      "Test Loss: 0.0713, Test Acc: 0.9790\n",
      "--------------------------------------------------\n"
     ]
    },
    {
     "name": "stderr",
     "output_type": "stream",
     "text": [
      "100%|██████████| 938/938 [00:19<00:00, 48.41it/s]\n",
      "100%|██████████| 157/157 [00:02<00:00, 64.09it/s]\n"
     ]
    },
    {
     "name": "stdout",
     "output_type": "stream",
     "text": [
      "Epoch 5/5:\n",
      "Train Loss: 0.0432, Train Acc: 0.9873\n",
      "Test Loss: 0.0812, Test Acc: 0.9794\n",
      "--------------------------------------------------\n",
      "Time:107.74 секунд\n",
      "Paramete1462538\n",
      "Модель: very_wide\n",
      "Ширина слоёв: [2048, 1024, 512]\n"
     ]
    },
    {
     "name": "stderr",
     "output_type": "stream",
     "text": [
      "100%|██████████| 938/938 [00:18<00:00, 51.89it/s]\n",
      "100%|██████████| 157/157 [00:02<00:00, 64.65it/s]\n"
     ]
    },
    {
     "name": "stdout",
     "output_type": "stream",
     "text": [
      "Epoch 1/5:\n",
      "Train Loss: 0.2107, Train Acc: 0.9361\n",
      "Test Loss: 0.1360, Test Acc: 0.9598\n",
      "--------------------------------------------------\n"
     ]
    },
    {
     "name": "stderr",
     "output_type": "stream",
     "text": [
      "100%|██████████| 938/938 [00:18<00:00, 50.54it/s]\n",
      "100%|██████████| 157/157 [00:02<00:00, 65.11it/s]\n"
     ]
    },
    {
     "name": "stdout",
     "output_type": "stream",
     "text": [
      "Epoch 2/5:\n",
      "Train Loss: 0.1026, Train Acc: 0.9700\n",
      "Test Loss: 0.0962, Test Acc: 0.9742\n",
      "--------------------------------------------------\n"
     ]
    },
    {
     "name": "stderr",
     "output_type": "stream",
     "text": [
      "100%|██████████| 938/938 [00:18<00:00, 50.19it/s]\n",
      "100%|██████████| 157/157 [00:02<00:00, 63.85it/s]\n"
     ]
    },
    {
     "name": "stdout",
     "output_type": "stream",
     "text": [
      "Epoch 3/5:\n",
      "Train Loss: 0.0710, Train Acc: 0.9790\n",
      "Test Loss: 0.0927, Test Acc: 0.9718\n",
      "--------------------------------------------------\n"
     ]
    },
    {
     "name": "stderr",
     "output_type": "stream",
     "text": [
      "100%|██████████| 938/938 [00:18<00:00, 50.08it/s]\n",
      "100%|██████████| 157/157 [00:02<00:00, 63.91it/s]\n"
     ]
    },
    {
     "name": "stdout",
     "output_type": "stream",
     "text": [
      "Epoch 4/5:\n",
      "Train Loss: 0.0595, Train Acc: 0.9821\n",
      "Test Loss: 0.0973, Test Acc: 0.9703\n",
      "--------------------------------------------------\n"
     ]
    },
    {
     "name": "stderr",
     "output_type": "stream",
     "text": [
      "100%|██████████| 938/938 [00:18<00:00, 50.54it/s]\n",
      "100%|██████████| 157/157 [00:02<00:00, 66.19it/s]"
     ]
    },
    {
     "name": "stdout",
     "output_type": "stream",
     "text": [
      "Epoch 5/5:\n",
      "Train Loss: 0.0471, Train Acc: 0.9861\n",
      "Test Loss: 0.0867, Test Acc: 0.9782\n",
      "--------------------------------------------------\n",
      "Time:104.77 секунд\n",
      "Paramete4235786\n"
     ]
    },
    {
     "name": "stderr",
     "output_type": "stream",
     "text": [
      "\n"
     ]
    }
   ],
   "source": [
    "import torch\n",
    "import time\n",
    "from models import FullyConnectedModel\n",
    "from trainer import train_model\n",
    "from datasets import get_mnist_loaders\n",
    "from utils import count_parameters, plot_training_history\n",
    "\n",
    "device = torch.device('cuda' if torch.cuda.is_available() else 'cpu')\n",
    "train_loader, test_loader = get_mnist_loaders(batch_size=64)\n",
    "\n",
    "width_configs = {\n",
    "    \"narrow\": [64, 32, 16],\n",
    "    \"medium\": [256, 128, 64],\n",
    "    \"wide\": [1024, 512, 256],\n",
    "    \"very_wide\": [2048, 1024, 512],\n",
    "}\n",
    "\n",
    "#Проходимся по всем ширинам\n",
    "for name, sizes in width_configs.items():\n",
    "    print(f\"Модель: {name}\")\n",
    "    print(f\"Ширина слоёв: {sizes}\")\n",
    "\n",
    "    #Изменяем колво нейронов в зависимости от ширины \n",
    "    layers = []\n",
    "    for size in sizes:\n",
    "        layers.append({\"type\": \"linear\", \"size\": size})\n",
    "        layers.append({\"type\": \"relu\"})\n",
    "\n",
    "    model = FullyConnectedModel(\n",
    "        input_size=784,\n",
    "        num_classes=10,\n",
    "        layers=layers\n",
    "    ).to(device)\n",
    "\n",
    "    num_params = count_parameters(model)\n",
    "\n",
    "    start_time = time.time()\n",
    "    history = train_model(model, train_loader, test_loader, epochs=5, device=device)\n",
    "    elapsed_time = time.time() - start_time\n",
    "    print(f\"Time:{elapsed_time:.2f} секунд\")\n",
    "    print(f\"Paramete{num_params}\")\n"
   ]
  },
  {
   "cell_type": "markdown",
   "id": "95a45337",
   "metadata": {},
   "source": [
    "**Вывод в отчете**"
   ]
  },
  {
   "cell_type": "markdown",
   "id": "cbe61e89",
   "metadata": {},
   "source": [
    "**2.2 Оптимизация архитектуры (10 баллов)**"
   ]
  },
  {
   "cell_type": "code",
   "execution_count": 4,
   "id": "6b968395",
   "metadata": {},
   "outputs": [
    {
     "data": {
      "image/png": "[encoded data removed]",
      "text/plain": [
       "<Figure size 800x600 with 2 Axes>"
      ]
     },
     "metadata": {},
     "output_type": "display_data"
    }
   ],
   "source": [
    "df = pd.DataFrame(results)\n",
    "\n",
    "# Группируем по (x, z), берём максимальный test_acc среди всех y\n",
    "heatmap_data = df.groupby(['x', 'z'])['test_acc'].max().unstack()\n",
    "\n",
    "plt.figure(figsize=(8, 6))\n",
    "sns.heatmap(heatmap_data, annot=True, fmt=\".4f\", cmap=\"YlGnBu\")\n",
    "plt.title(\"Heatmap\")\n",
    "plt.xlabel(\"Слой 3 (z)\")\n",
    "plt.ylabel(\"Слой 1 (x)\")\n",
    "plt.tight_layout()\n",
    "plt.savefig(\"plots/heatmap.png\")\n",
    "plt.show()"
   ]
  },
  {
   "cell_type": "code",
   "execution_count": 3,
   "id": "5205e2ab",
   "metadata": {},
   "outputs": [
    {
     "name": "stdout",
     "output_type": "stream",
     "text": [
      "Ширина слоёв: (128, 128, 128)\n"
     ]
    },
    {
     "name": "stderr",
     "output_type": "stream",
     "text": [
      "100%|██████████| 938/938 [00:16<00:00, 56.45it/s]\n",
      "100%|██████████| 157/157 [00:02<00:00, 67.07it/s]\n"
     ]
    },
    {
     "name": "stdout",
     "output_type": "stream",
     "text": [
      "Epoch 1/3:\n",
      "Train Loss: 0.2742, Train Acc: 0.9150\n",
      "Test Loss: 0.1291, Test Acc: 0.9581\n",
      "--------------------------------------------------\n"
     ]
    },
    {
     "name": "stderr",
     "output_type": "stream",
     "text": [
      "100%|██████████| 938/938 [00:15<00:00, 59.50it/s]\n",
      "100%|██████████| 157/157 [00:02<00:00, 72.64it/s]\n"
     ]
    },
    {
     "name": "stdout",
     "output_type": "stream",
     "text": [
      "Epoch 2/3:\n",
      "Train Loss: 0.1111, Train Acc: 0.9655\n",
      "Test Loss: 0.0976, Test Acc: 0.9715\n",
      "--------------------------------------------------\n"
     ]
    },
    {
     "name": "stderr",
     "output_type": "stream",
     "text": [
      "100%|██████████| 938/938 [00:15<00:00, 58.92it/s]\n",
      "100%|██████████| 157/157 [00:02<00:00, 67.05it/s]\n"
     ]
    },
    {
     "name": "stdout",
     "output_type": "stream",
     "text": [
      "Epoch 3/3:\n",
      "Train Loss: 0.0799, Train Acc: 0.9745\n",
      "Test Loss: 0.0877, Test Acc: 0.9717\n",
      "--------------------------------------------------\n",
      "Время - 55.15792107582092 секунд\n",
      "Ширина слоёв: (128, 128, 256)\n"
     ]
    },
    {
     "name": "stderr",
     "output_type": "stream",
     "text": [
      "100%|██████████| 938/938 [00:15<00:00, 59.47it/s]\n",
      "100%|██████████| 157/157 [00:02<00:00, 65.01it/s]\n"
     ]
    },
    {
     "name": "stdout",
     "output_type": "stream",
     "text": [
      "Epoch 1/3:\n",
      "Train Loss: 0.2563, Train Acc: 0.9205\n",
      "Test Loss: 0.1203, Test Acc: 0.9615\n",
      "--------------------------------------------------\n"
     ]
    },
    {
     "name": "stderr",
     "output_type": "stream",
     "text": [
      "100%|██████████| 938/938 [00:15<00:00, 59.01it/s]\n",
      "100%|██████████| 157/157 [00:02<00:00, 65.93it/s]\n"
     ]
    },
    {
     "name": "stdout",
     "output_type": "stream",
     "text": [
      "Epoch 2/3:\n",
      "Train Loss: 0.1097, Train Acc: 0.9662\n",
      "Test Loss: 0.1054, Test Acc: 0.9670\n",
      "--------------------------------------------------\n"
     ]
    },
    {
     "name": "stderr",
     "output_type": "stream",
     "text": [
      "100%|██████████| 938/938 [00:15<00:00, 58.93it/s]\n",
      "100%|██████████| 157/157 [00:02<00:00, 70.57it/s]\n"
     ]
    },
    {
     "name": "stdout",
     "output_type": "stream",
     "text": [
      "Epoch 3/3:\n",
      "Train Loss: 0.0807, Train Acc: 0.9754\n",
      "Test Loss: 0.0997, Test Acc: 0.9700\n",
      "--------------------------------------------------\n",
      "Время - 54.62121105194092 секунд\n",
      "Ширина слоёв: (128, 128, 512)\n"
     ]
    },
    {
     "name": "stderr",
     "output_type": "stream",
     "text": [
      "100%|██████████| 938/938 [00:16<00:00, 58.20it/s]\n",
      "100%|██████████| 157/157 [00:02<00:00, 64.87it/s]\n"
     ]
    },
    {
     "name": "stdout",
     "output_type": "stream",
     "text": [
      "Epoch 1/3:\n",
      "Train Loss: 0.2487, Train Acc: 0.9241\n",
      "Test Loss: 0.1248, Test Acc: 0.9622\n",
      "--------------------------------------------------\n"
     ]
    },
    {
     "name": "stderr",
     "output_type": "stream",
     "text": [
      "100%|██████████| 938/938 [00:15<00:00, 58.67it/s]\n",
      "100%|██████████| 157/157 [00:02<00:00, 64.89it/s]\n"
     ]
    },
    {
     "name": "stdout",
     "output_type": "stream",
     "text": [
      "Epoch 2/3:\n",
      "Train Loss: 0.1074, Train Acc: 0.9666\n",
      "Test Loss: 0.0870, Test Acc: 0.9730\n",
      "--------------------------------------------------\n"
     ]
    },
    {
     "name": "stderr",
     "output_type": "stream",
     "text": [
      "100%|██████████| 938/938 [00:15<00:00, 58.76it/s]\n",
      "100%|██████████| 157/157 [00:02<00:00, 63.81it/s]\n"
     ]
    },
    {
     "name": "stdout",
     "output_type": "stream",
     "text": [
      "Epoch 3/3:\n",
      "Train Loss: 0.0775, Train Acc: 0.9763\n",
      "Test Loss: 0.0875, Test Acc: 0.9746\n",
      "--------------------------------------------------\n",
      "Время - 55.381829261779785 секунд\n",
      "Ширина слоёв: (128, 256, 128)\n"
     ]
    },
    {
     "name": "stderr",
     "output_type": "stream",
     "text": [
      "100%|██████████| 938/938 [00:16<00:00, 58.37it/s]\n",
      "100%|██████████| 157/157 [00:02<00:00, 68.42it/s]\n"
     ]
    },
    {
     "name": "stdout",
     "output_type": "stream",
     "text": [
      "Epoch 1/3:\n",
      "Train Loss: 0.2525, Train Acc: 0.9222\n",
      "Test Loss: 0.1251, Test Acc: 0.9608\n",
      "--------------------------------------------------\n"
     ]
    },
    {
     "name": "stderr",
     "output_type": "stream",
     "text": [
      "100%|██████████| 938/938 [00:16<00:00, 56.62it/s]\n",
      "100%|██████████| 157/157 [00:02<00:00, 67.02it/s]\n"
     ]
    },
    {
     "name": "stdout",
     "output_type": "stream",
     "text": [
      "Epoch 2/3:\n",
      "Train Loss: 0.1062, Train Acc: 0.9668\n",
      "Test Loss: 0.0917, Test Acc: 0.9714\n",
      "--------------------------------------------------\n"
     ]
    },
    {
     "name": "stderr",
     "output_type": "stream",
     "text": [
      "100%|██████████| 938/938 [00:16<00:00, 57.99it/s]\n",
      "100%|██████████| 157/157 [00:02<00:00, 64.73it/s]\n"
     ]
    },
    {
     "name": "stdout",
     "output_type": "stream",
     "text": [
      "Epoch 3/3:\n",
      "Train Loss: 0.0747, Train Acc: 0.9776\n",
      "Test Loss: 0.0883, Test Acc: 0.9718\n",
      "--------------------------------------------------\n",
      "Время - 55.887195348739624 секунд\n",
      "Ширина слоёв: (128, 256, 256)\n"
     ]
    },
    {
     "name": "stderr",
     "output_type": "stream",
     "text": [
      "100%|██████████| 938/938 [00:16<00:00, 56.94it/s]\n",
      "100%|██████████| 157/157 [00:02<00:00, 69.21it/s]\n"
     ]
    },
    {
     "name": "stdout",
     "output_type": "stream",
     "text": [
      "Epoch 1/3:\n",
      "Train Loss: 0.2365, Train Acc: 0.9269\n",
      "Test Loss: 0.1133, Test Acc: 0.9652\n",
      "--------------------------------------------------\n"
     ]
    },
    {
     "name": "stderr",
     "output_type": "stream",
     "text": [
      "100%|██████████| 938/938 [00:16<00:00, 57.54it/s]\n",
      "100%|██████████| 157/157 [00:02<00:00, 62.55it/s]\n"
     ]
    },
    {
     "name": "stdout",
     "output_type": "stream",
     "text": [
      "Epoch 2/3:\n",
      "Train Loss: 0.1018, Train Acc: 0.9687\n",
      "Test Loss: 0.0954, Test Acc: 0.9703\n",
      "--------------------------------------------------\n"
     ]
    },
    {
     "name": "stderr",
     "output_type": "stream",
     "text": [
      "100%|██████████| 938/938 [00:16<00:00, 56.73it/s]\n",
      "100%|██████████| 157/157 [00:02<00:00, 66.78it/s]\n"
     ]
    },
    {
     "name": "stdout",
     "output_type": "stream",
     "text": [
      "Epoch 3/3:\n",
      "Train Loss: 0.0752, Train Acc: 0.9762\n",
      "Test Loss: 0.0931, Test Acc: 0.9729\n",
      "--------------------------------------------------\n",
      "Время - 56.45107698440552 секунд\n",
      "Ширина слоёв: (128, 256, 512)\n"
     ]
    },
    {
     "name": "stderr",
     "output_type": "stream",
     "text": [
      "100%|██████████| 938/938 [00:17<00:00, 54.75it/s]\n",
      "100%|██████████| 157/157 [00:02<00:00, 69.21it/s]\n"
     ]
    },
    {
     "name": "stdout",
     "output_type": "stream",
     "text": [
      "Epoch 1/3:\n",
      "Train Loss: 0.2398, Train Acc: 0.9263\n",
      "Test Loss: 0.1416, Test Acc: 0.9552\n",
      "--------------------------------------------------\n"
     ]
    },
    {
     "name": "stderr",
     "output_type": "stream",
     "text": [
      "100%|██████████| 938/938 [00:16<00:00, 57.71it/s]\n",
      "100%|██████████| 157/157 [00:02<00:00, 63.27it/s]\n"
     ]
    },
    {
     "name": "stdout",
     "output_type": "stream",
     "text": [
      "Epoch 2/3:\n",
      "Train Loss: 0.1055, Train Acc: 0.9669\n",
      "Test Loss: 0.1043, Test Acc: 0.9686\n",
      "--------------------------------------------------\n"
     ]
    },
    {
     "name": "stderr",
     "output_type": "stream",
     "text": [
      "100%|██████████| 938/938 [00:16<00:00, 56.23it/s]\n",
      "100%|██████████| 157/157 [00:02<00:00, 64.16it/s]\n"
     ]
    },
    {
     "name": "stdout",
     "output_type": "stream",
     "text": [
      "Epoch 3/3:\n",
      "Train Loss: 0.0766, Train Acc: 0.9766\n",
      "Test Loss: 0.0848, Test Acc: 0.9740\n",
      "--------------------------------------------------\n",
      "Время - 57.28257155418396 секунд\n",
      "Ширина слоёв: (128, 512, 128)\n"
     ]
    },
    {
     "name": "stderr",
     "output_type": "stream",
     "text": [
      "100%|██████████| 938/938 [00:16<00:00, 56.14it/s]\n",
      "100%|██████████| 157/157 [00:02<00:00, 66.71it/s]\n"
     ]
    },
    {
     "name": "stdout",
     "output_type": "stream",
     "text": [
      "Epoch 1/3:\n",
      "Train Loss: 0.2421, Train Acc: 0.9250\n",
      "Test Loss: 0.1339, Test Acc: 0.9583\n",
      "--------------------------------------------------\n"
     ]
    },
    {
     "name": "stderr",
     "output_type": "stream",
     "text": [
      "100%|██████████| 938/938 [00:16<00:00, 57.15it/s]\n",
      "100%|██████████| 157/157 [00:02<00:00, 65.34it/s]\n"
     ]
    },
    {
     "name": "stdout",
     "output_type": "stream",
     "text": [
      "Epoch 2/3:\n",
      "Train Loss: 0.1069, Train Acc: 0.9664\n",
      "Test Loss: 0.0952, Test Acc: 0.9702\n",
      "--------------------------------------------------\n"
     ]
    },
    {
     "name": "stderr",
     "output_type": "stream",
     "text": [
      "100%|██████████| 938/938 [00:16<00:00, 56.41it/s]\n",
      "100%|██████████| 157/157 [00:02<00:00, 66.85it/s]\n"
     ]
    },
    {
     "name": "stdout",
     "output_type": "stream",
     "text": [
      "Epoch 3/3:\n",
      "Train Loss: 0.0747, Train Acc: 0.9769\n",
      "Test Loss: 0.1066, Test Acc: 0.9685\n",
      "--------------------------------------------------\n",
      "Время - 56.86462163925171 секунд\n",
      "Ширина слоёв: (128, 512, 256)\n"
     ]
    },
    {
     "name": "stderr",
     "output_type": "stream",
     "text": [
      "100%|██████████| 938/938 [00:16<00:00, 55.56it/s]\n",
      "100%|██████████| 157/157 [00:02<00:00, 66.29it/s]\n"
     ]
    },
    {
     "name": "stdout",
     "output_type": "stream",
     "text": [
      "Epoch 1/3:\n",
      "Train Loss: 0.2326, Train Acc: 0.9297\n",
      "Test Loss: 0.1184, Test Acc: 0.9629\n",
      "--------------------------------------------------\n"
     ]
    },
    {
     "name": "stderr",
     "output_type": "stream",
     "text": [
      "100%|██████████| 938/938 [00:17<00:00, 53.91it/s]\n",
      "100%|██████████| 157/157 [00:02<00:00, 65.92it/s]\n"
     ]
    },
    {
     "name": "stdout",
     "output_type": "stream",
     "text": [
      "Epoch 2/3:\n",
      "Train Loss: 0.1028, Train Acc: 0.9687\n",
      "Test Loss: 0.1075, Test Acc: 0.9695\n",
      "--------------------------------------------------\n"
     ]
    },
    {
     "name": "stderr",
     "output_type": "stream",
     "text": [
      "100%|██████████| 938/938 [00:17<00:00, 54.64it/s]\n",
      "100%|██████████| 157/157 [00:02<00:00, 67.18it/s]\n"
     ]
    },
    {
     "name": "stdout",
     "output_type": "stream",
     "text": [
      "Epoch 3/3:\n",
      "Train Loss: 0.0772, Train Acc: 0.9759\n",
      "Test Loss: 0.0811, Test Acc: 0.9764\n",
      "--------------------------------------------------\n",
      "Время - 58.54950547218323 секунд\n",
      "Ширина слоёв: (128, 512, 512)\n"
     ]
    },
    {
     "name": "stderr",
     "output_type": "stream",
     "text": [
      "100%|██████████| 938/938 [00:18<00:00, 50.26it/s]\n",
      "100%|██████████| 157/157 [00:02<00:00, 63.25it/s]\n"
     ]
    },
    {
     "name": "stdout",
     "output_type": "stream",
     "text": [
      "Epoch 1/3:\n",
      "Train Loss: 0.2300, Train Acc: 0.9283\n",
      "Test Loss: 0.1199, Test Acc: 0.9614\n",
      "--------------------------------------------------\n"
     ]
    },
    {
     "name": "stderr",
     "output_type": "stream",
     "text": [
      "100%|██████████| 938/938 [00:18<00:00, 49.41it/s]\n",
      "100%|██████████| 157/157 [00:02<00:00, 64.17it/s]\n"
     ]
    },
    {
     "name": "stdout",
     "output_type": "stream",
     "text": [
      "Epoch 2/3:\n",
      "Train Loss: 0.1042, Train Acc: 0.9683\n",
      "Test Loss: 0.0991, Test Acc: 0.9700\n",
      "--------------------------------------------------\n"
     ]
    },
    {
     "name": "stderr",
     "output_type": "stream",
     "text": [
      "100%|██████████| 938/938 [00:18<00:00, 50.23it/s]\n",
      "100%|██████████| 157/157 [00:02<00:00, 65.22it/s]\n"
     ]
    },
    {
     "name": "stdout",
     "output_type": "stream",
     "text": [
      "Epoch 3/3:\n",
      "Train Loss: 0.0753, Train Acc: 0.9770\n",
      "Test Loss: 0.0973, Test Acc: 0.9718\n",
      "--------------------------------------------------\n",
      "Время - 63.66939401626587 секунд\n",
      "Ширина слоёв: (256, 128, 128)\n"
     ]
    },
    {
     "name": "stderr",
     "output_type": "stream",
     "text": [
      "100%|██████████| 938/938 [00:16<00:00, 55.81it/s]\n",
      "100%|██████████| 157/157 [00:02<00:00, 66.59it/s]\n"
     ]
    },
    {
     "name": "stdout",
     "output_type": "stream",
     "text": [
      "Epoch 1/3:\n",
      "Train Loss: 0.2479, Train Acc: 0.9255\n",
      "Test Loss: 0.1155, Test Acc: 0.9639\n",
      "--------------------------------------------------\n"
     ]
    },
    {
     "name": "stderr",
     "output_type": "stream",
     "text": [
      "100%|██████████| 938/938 [00:16<00:00, 55.76it/s]\n",
      "100%|██████████| 157/157 [00:02<00:00, 67.02it/s]\n"
     ]
    },
    {
     "name": "stdout",
     "output_type": "stream",
     "text": [
      "Epoch 2/3:\n",
      "Train Loss: 0.1016, Train Acc: 0.9684\n",
      "Test Loss: 0.0956, Test Acc: 0.9691\n",
      "--------------------------------------------------\n"
     ]
    },
    {
     "name": "stderr",
     "output_type": "stream",
     "text": [
      "100%|██████████| 938/938 [00:16<00:00, 55.83it/s]\n",
      "100%|██████████| 157/157 [00:02<00:00, 65.93it/s]\n"
     ]
    },
    {
     "name": "stdout",
     "output_type": "stream",
     "text": [
      "Epoch 3/3:\n",
      "Train Loss: 0.0731, Train Acc: 0.9771\n",
      "Test Loss: 0.0787, Test Acc: 0.9751\n",
      "--------------------------------------------------\n",
      "Время - 57.52500009536743 секунд\n",
      "Ширина слоёв: (256, 128, 256)\n"
     ]
    },
    {
     "name": "stderr",
     "output_type": "stream",
     "text": [
      "100%|██████████| 938/938 [00:16<00:00, 55.45it/s]\n",
      "100%|██████████| 157/157 [00:02<00:00, 66.36it/s]\n"
     ]
    },
    {
     "name": "stdout",
     "output_type": "stream",
     "text": [
      "Epoch 1/3:\n",
      "Train Loss: 0.2447, Train Acc: 0.9257\n",
      "Test Loss: 0.1399, Test Acc: 0.9537\n",
      "--------------------------------------------------\n"
     ]
    },
    {
     "name": "stderr",
     "output_type": "stream",
     "text": [
      "100%|██████████| 938/938 [00:17<00:00, 55.06it/s]\n",
      "100%|██████████| 157/157 [00:02<00:00, 66.62it/s]\n"
     ]
    },
    {
     "name": "stdout",
     "output_type": "stream",
     "text": [
      "Epoch 2/3:\n",
      "Train Loss: 0.1034, Train Acc: 0.9679\n",
      "Test Loss: 0.0933, Test Acc: 0.9705\n",
      "--------------------------------------------------\n"
     ]
    },
    {
     "name": "stderr",
     "output_type": "stream",
     "text": [
      "100%|██████████| 938/938 [00:16<00:00, 55.35it/s]\n",
      "100%|██████████| 157/157 [00:02<00:00, 66.43it/s]\n"
     ]
    },
    {
     "name": "stdout",
     "output_type": "stream",
     "text": [
      "Epoch 3/3:\n",
      "Train Loss: 0.0724, Train Acc: 0.9771\n",
      "Test Loss: 0.0859, Test Acc: 0.9735\n",
      "--------------------------------------------------\n",
      "Время - 57.99897313117981 секунд\n",
      "Ширина слоёв: (256, 128, 512)\n"
     ]
    },
    {
     "name": "stderr",
     "output_type": "stream",
     "text": [
      "100%|██████████| 938/938 [00:17<00:00, 53.78it/s]\n",
      "100%|██████████| 157/157 [00:02<00:00, 66.73it/s]\n"
     ]
    },
    {
     "name": "stdout",
     "output_type": "stream",
     "text": [
      "Epoch 1/3:\n",
      "Train Loss: 0.2272, Train Acc: 0.9298\n",
      "Test Loss: 0.1463, Test Acc: 0.9570\n",
      "--------------------------------------------------\n"
     ]
    },
    {
     "name": "stderr",
     "output_type": "stream",
     "text": [
      "100%|██████████| 938/938 [00:17<00:00, 53.77it/s]\n",
      "100%|██████████| 157/157 [00:02<00:00, 66.57it/s]\n"
     ]
    },
    {
     "name": "stdout",
     "output_type": "stream",
     "text": [
      "Epoch 2/3:\n",
      "Train Loss: 0.0981, Train Acc: 0.9699\n",
      "Test Loss: 0.0874, Test Acc: 0.9734\n",
      "--------------------------------------------------\n"
     ]
    },
    {
     "name": "stderr",
     "output_type": "stream",
     "text": [
      "100%|██████████| 938/938 [00:17<00:00, 53.29it/s]\n",
      "100%|██████████| 157/157 [00:02<00:00, 65.53it/s]\n"
     ]
    },
    {
     "name": "stdout",
     "output_type": "stream",
     "text": [
      "Epoch 3/3:\n",
      "Train Loss: 0.0722, Train Acc: 0.9775\n",
      "Test Loss: 0.0842, Test Acc: 0.9764\n",
      "--------------------------------------------------\n",
      "Время - 59.60715174674988 секунд\n",
      "Ширина слоёв: (256, 256, 128)\n"
     ]
    },
    {
     "name": "stderr",
     "output_type": "stream",
     "text": [
      "100%|██████████| 938/938 [00:17<00:00, 53.74it/s]\n",
      "100%|██████████| 157/157 [00:02<00:00, 66.29it/s]\n"
     ]
    },
    {
     "name": "stdout",
     "output_type": "stream",
     "text": [
      "Epoch 1/3:\n",
      "Train Loss: 0.2344, Train Acc: 0.9284\n",
      "Test Loss: 0.1103, Test Acc: 0.9655\n",
      "--------------------------------------------------\n"
     ]
    },
    {
     "name": "stderr",
     "output_type": "stream",
     "text": [
      "100%|██████████| 938/938 [00:17<00:00, 53.72it/s]\n",
      "100%|██████████| 157/157 [00:02<00:00, 66.18it/s]\n"
     ]
    },
    {
     "name": "stdout",
     "output_type": "stream",
     "text": [
      "Epoch 2/3:\n",
      "Train Loss: 0.0962, Train Acc: 0.9697\n",
      "Test Loss: 0.0838, Test Acc: 0.9728\n",
      "--------------------------------------------------\n"
     ]
    },
    {
     "name": "stderr",
     "output_type": "stream",
     "text": [
      "100%|██████████| 938/938 [00:17<00:00, 53.71it/s]\n",
      "100%|██████████| 157/157 [00:02<00:00, 66.19it/s]\n"
     ]
    },
    {
     "name": "stdout",
     "output_type": "stream",
     "text": [
      "Epoch 3/3:\n",
      "Train Loss: 0.0708, Train Acc: 0.9781\n",
      "Test Loss: 0.0877, Test Acc: 0.9738\n",
      "--------------------------------------------------\n",
      "Время - 59.506566762924194 секунд\n",
      "Ширина слоёв: (256, 256, 256)\n"
     ]
    },
    {
     "name": "stderr",
     "output_type": "stream",
     "text": [
      "100%|██████████| 938/938 [00:17<00:00, 52.52it/s]\n",
      "100%|██████████| 157/157 [00:02<00:00, 66.72it/s]\n"
     ]
    },
    {
     "name": "stdout",
     "output_type": "stream",
     "text": [
      "Epoch 1/3:\n",
      "Train Loss: 0.2282, Train Acc: 0.9290\n",
      "Test Loss: 0.1366, Test Acc: 0.9562\n",
      "--------------------------------------------------\n"
     ]
    },
    {
     "name": "stderr",
     "output_type": "stream",
     "text": [
      "100%|██████████| 938/938 [00:17<00:00, 52.38it/s]\n",
      "100%|██████████| 157/157 [00:02<00:00, 65.11it/s]\n"
     ]
    },
    {
     "name": "stdout",
     "output_type": "stream",
     "text": [
      "Epoch 2/3:\n",
      "Train Loss: 0.0975, Train Acc: 0.9702\n",
      "Test Loss: 0.0949, Test Acc: 0.9710\n",
      "--------------------------------------------------\n"
     ]
    },
    {
     "name": "stderr",
     "output_type": "stream",
     "text": [
      "100%|██████████| 938/938 [00:17<00:00, 52.57it/s]\n",
      "100%|██████████| 157/157 [00:02<00:00, 65.11it/s]\n"
     ]
    },
    {
     "name": "stdout",
     "output_type": "stream",
     "text": [
      "Epoch 3/3:\n",
      "Train Loss: 0.0702, Train Acc: 0.9786\n",
      "Test Loss: 0.0828, Test Acc: 0.9762\n",
      "--------------------------------------------------\n",
      "Время - 60.796266078948975 секунд\n",
      "Ширина слоёв: (256, 256, 512)\n"
     ]
    },
    {
     "name": "stderr",
     "output_type": "stream",
     "text": [
      "100%|██████████| 938/938 [00:18<00:00, 49.93it/s]\n",
      "100%|██████████| 157/157 [00:02<00:00, 66.05it/s]\n"
     ]
    },
    {
     "name": "stdout",
     "output_type": "stream",
     "text": [
      "Epoch 1/3:\n",
      "Train Loss: 0.2259, Train Acc: 0.9300\n",
      "Test Loss: 0.1156, Test Acc: 0.9657\n",
      "--------------------------------------------------\n"
     ]
    },
    {
     "name": "stderr",
     "output_type": "stream",
     "text": [
      "100%|██████████| 938/938 [00:18<00:00, 49.85it/s]\n",
      "100%|██████████| 157/157 [00:02<00:00, 65.84it/s]\n"
     ]
    },
    {
     "name": "stdout",
     "output_type": "stream",
     "text": [
      "Epoch 2/3:\n",
      "Train Loss: 0.0981, Train Acc: 0.9695\n",
      "Test Loss: 0.0931, Test Acc: 0.9699\n",
      "--------------------------------------------------\n"
     ]
    },
    {
     "name": "stderr",
     "output_type": "stream",
     "text": [
      "100%|██████████| 938/938 [00:18<00:00, 49.92it/s]\n",
      "100%|██████████| 157/157 [00:02<00:00, 65.02it/s]\n"
     ]
    },
    {
     "name": "stdout",
     "output_type": "stream",
     "text": [
      "Epoch 3/3:\n",
      "Train Loss: 0.0686, Train Acc: 0.9788\n",
      "Test Loss: 0.0900, Test Acc: 0.9712\n",
      "--------------------------------------------------\n",
      "Время - 63.583712339401245 секунд\n",
      "Ширина слоёв: (256, 512, 128)\n"
     ]
    },
    {
     "name": "stderr",
     "output_type": "stream",
     "text": [
      "100%|██████████| 938/938 [00:18<00:00, 49.91it/s]\n",
      "100%|██████████| 157/157 [00:02<00:00, 66.29it/s]\n"
     ]
    },
    {
     "name": "stdout",
     "output_type": "stream",
     "text": [
      "Epoch 1/3:\n",
      "Train Loss: 0.2308, Train Acc: 0.9286\n",
      "Test Loss: 0.1130, Test Acc: 0.9652\n",
      "--------------------------------------------------\n"
     ]
    },
    {
     "name": "stderr",
     "output_type": "stream",
     "text": [
      "100%|██████████| 938/938 [00:18<00:00, 49.97it/s]\n",
      "100%|██████████| 157/157 [00:02<00:00, 65.81it/s]\n"
     ]
    },
    {
     "name": "stdout",
     "output_type": "stream",
     "text": [
      "Epoch 2/3:\n",
      "Train Loss: 0.0982, Train Acc: 0.9694\n",
      "Test Loss: 0.0792, Test Acc: 0.9747\n",
      "--------------------------------------------------\n"
     ]
    },
    {
     "name": "stderr",
     "output_type": "stream",
     "text": [
      "100%|██████████| 938/938 [00:18<00:00, 49.98it/s]\n",
      "100%|██████████| 157/157 [00:02<00:00, 66.05it/s]\n"
     ]
    },
    {
     "name": "stdout",
     "output_type": "stream",
     "text": [
      "Epoch 3/3:\n",
      "Train Loss: 0.0710, Train Acc: 0.9775\n",
      "Test Loss: 0.0921, Test Acc: 0.9722\n",
      "--------------------------------------------------\n",
      "Время - 63.4772310256958 секунд\n",
      "Ширина слоёв: (256, 512, 256)\n"
     ]
    },
    {
     "name": "stderr",
     "output_type": "stream",
     "text": [
      "100%|██████████| 938/938 [00:18<00:00, 49.79it/s]\n",
      "100%|██████████| 157/157 [00:02<00:00, 65.90it/s]\n"
     ]
    },
    {
     "name": "stdout",
     "output_type": "stream",
     "text": [
      "Epoch 1/3:\n",
      "Train Loss: 0.2252, Train Acc: 0.9296\n",
      "Test Loss: 0.1086, Test Acc: 0.9658\n",
      "--------------------------------------------------\n"
     ]
    },
    {
     "name": "stderr",
     "output_type": "stream",
     "text": [
      "100%|██████████| 938/938 [00:18<00:00, 49.75it/s]\n",
      "100%|██████████| 157/157 [00:02<00:00, 65.75it/s]\n"
     ]
    },
    {
     "name": "stdout",
     "output_type": "stream",
     "text": [
      "Epoch 2/3:\n",
      "Train Loss: 0.0962, Train Acc: 0.9709\n",
      "Test Loss: 0.0946, Test Acc: 0.9717\n",
      "--------------------------------------------------\n"
     ]
    },
    {
     "name": "stderr",
     "output_type": "stream",
     "text": [
      "100%|██████████| 938/938 [00:18<00:00, 49.67it/s]\n",
      "100%|██████████| 157/157 [00:02<00:00, 65.93it/s]\n"
     ]
    },
    {
     "name": "stdout",
     "output_type": "stream",
     "text": [
      "Epoch 3/3:\n",
      "Train Loss: 0.0717, Train Acc: 0.9777\n",
      "Test Loss: 0.0816, Test Acc: 0.9754\n",
      "--------------------------------------------------\n",
      "Время - 63.74229598045349 секунд\n",
      "Ширина слоёв: (256, 512, 512)\n"
     ]
    },
    {
     "name": "stderr",
     "output_type": "stream",
     "text": [
      "100%|██████████| 938/938 [00:19<00:00, 47.05it/s]\n",
      "100%|██████████| 157/157 [00:02<00:00, 64.91it/s]\n"
     ]
    },
    {
     "name": "stdout",
     "output_type": "stream",
     "text": [
      "Epoch 1/3:\n",
      "Train Loss: 0.2204, Train Acc: 0.9321\n",
      "Test Loss: 0.1321, Test Acc: 0.9608\n",
      "--------------------------------------------------\n"
     ]
    },
    {
     "name": "stderr",
     "output_type": "stream",
     "text": [
      "100%|██████████| 938/938 [00:19<00:00, 47.12it/s]\n",
      "100%|██████████| 157/157 [00:02<00:00, 65.19it/s]\n"
     ]
    },
    {
     "name": "stdout",
     "output_type": "stream",
     "text": [
      "Epoch 2/3:\n",
      "Train Loss: 0.0992, Train Acc: 0.9705\n",
      "Test Loss: 0.0992, Test Acc: 0.9685\n",
      "--------------------------------------------------\n"
     ]
    },
    {
     "name": "stderr",
     "output_type": "stream",
     "text": [
      "100%|██████████| 938/938 [00:19<00:00, 47.18it/s]\n",
      "100%|██████████| 157/157 [00:02<00:00, 64.98it/s]\n"
     ]
    },
    {
     "name": "stdout",
     "output_type": "stream",
     "text": [
      "Epoch 3/3:\n",
      "Train Loss: 0.0708, Train Acc: 0.9782\n",
      "Test Loss: 0.0952, Test Acc: 0.9720\n",
      "--------------------------------------------------\n",
      "Время - 66.9786467552185 секунд\n",
      "Ширина слоёв: (512, 128, 128)\n"
     ]
    },
    {
     "name": "stderr",
     "output_type": "stream",
     "text": [
      "100%|██████████| 938/938 [00:19<00:00, 48.33it/s]\n",
      "100%|██████████| 157/157 [00:02<00:00, 64.90it/s]\n"
     ]
    },
    {
     "name": "stdout",
     "output_type": "stream",
     "text": [
      "Epoch 1/3:\n",
      "Train Loss: 0.2301, Train Acc: 0.9283\n",
      "Test Loss: 0.1086, Test Acc: 0.9642\n",
      "--------------------------------------------------\n"
     ]
    },
    {
     "name": "stderr",
     "output_type": "stream",
     "text": [
      "100%|██████████| 938/938 [00:18<00:00, 50.13it/s]\n",
      "100%|██████████| 157/157 [00:02<00:00, 64.81it/s]\n"
     ]
    },
    {
     "name": "stdout",
     "output_type": "stream",
     "text": [
      "Epoch 2/3:\n",
      "Train Loss: 0.0959, Train Acc: 0.9697\n",
      "Test Loss: 0.0916, Test Acc: 0.9736\n",
      "--------------------------------------------------\n"
     ]
    },
    {
     "name": "stderr",
     "output_type": "stream",
     "text": [
      "100%|██████████| 938/938 [00:19<00:00, 49.17it/s]\n",
      "100%|██████████| 157/157 [00:02<00:00, 62.54it/s]\n"
     ]
    },
    {
     "name": "stdout",
     "output_type": "stream",
     "text": [
      "Epoch 3/3:\n",
      "Train Loss: 0.0661, Train Acc: 0.9794\n",
      "Test Loss: 0.0893, Test Acc: 0.9727\n",
      "--------------------------------------------------\n",
      "Время - 64.56305718421936 секунд\n",
      "Ширина слоёв: (512, 128, 256)\n"
     ]
    },
    {
     "name": "stderr",
     "output_type": "stream",
     "text": [
      "100%|██████████| 938/938 [00:19<00:00, 49.27it/s]\n",
      "100%|██████████| 157/157 [00:02<00:00, 62.70it/s]\n"
     ]
    },
    {
     "name": "stdout",
     "output_type": "stream",
     "text": [
      "Epoch 1/3:\n",
      "Train Loss: 0.2261, Train Acc: 0.9302\n",
      "Test Loss: 0.1316, Test Acc: 0.9629\n",
      "--------------------------------------------------\n"
     ]
    },
    {
     "name": "stderr",
     "output_type": "stream",
     "text": [
      "100%|██████████| 938/938 [00:18<00:00, 51.73it/s]\n",
      "100%|██████████| 157/157 [00:02<00:00, 63.34it/s]\n"
     ]
    },
    {
     "name": "stdout",
     "output_type": "stream",
     "text": [
      "Epoch 2/3:\n",
      "Train Loss: 0.0936, Train Acc: 0.9714\n",
      "Test Loss: 0.0938, Test Acc: 0.9717\n",
      "--------------------------------------------------\n"
     ]
    },
    {
     "name": "stderr",
     "output_type": "stream",
     "text": [
      "100%|██████████| 938/938 [00:18<00:00, 51.72it/s]\n",
      "100%|██████████| 157/157 [00:02<00:00, 62.97it/s]\n"
     ]
    },
    {
     "name": "stdout",
     "output_type": "stream",
     "text": [
      "Epoch 3/3:\n",
      "Train Loss: 0.0678, Train Acc: 0.9782\n",
      "Test Loss: 0.0861, Test Acc: 0.9735\n",
      "--------------------------------------------------\n",
      "Время - 62.793675661087036 секунд\n",
      "Ширина слоёв: (512, 128, 512)\n"
     ]
    },
    {
     "name": "stderr",
     "output_type": "stream",
     "text": [
      "100%|██████████| 938/938 [00:19<00:00, 48.55it/s]\n",
      "100%|██████████| 157/157 [00:02<00:00, 63.96it/s]\n"
     ]
    },
    {
     "name": "stdout",
     "output_type": "stream",
     "text": [
      "Epoch 1/3:\n",
      "Train Loss: 0.2205, Train Acc: 0.9319\n",
      "Test Loss: 0.1063, Test Acc: 0.9675\n",
      "--------------------------------------------------\n"
     ]
    },
    {
     "name": "stderr",
     "output_type": "stream",
     "text": [
      "100%|██████████| 938/938 [00:19<00:00, 48.30it/s]\n",
      "100%|██████████| 157/157 [00:02<00:00, 63.75it/s]\n"
     ]
    },
    {
     "name": "stdout",
     "output_type": "stream",
     "text": [
      "Epoch 2/3:\n",
      "Train Loss: 0.0958, Train Acc: 0.9714\n",
      "Test Loss: 0.0923, Test Acc: 0.9736\n",
      "--------------------------------------------------\n"
     ]
    },
    {
     "name": "stderr",
     "output_type": "stream",
     "text": [
      "100%|██████████| 938/938 [00:19<00:00, 48.60it/s]\n",
      "100%|██████████| 157/157 [00:02<00:00, 64.06it/s]\n"
     ]
    },
    {
     "name": "stdout",
     "output_type": "stream",
     "text": [
      "Epoch 3/3:\n",
      "Train Loss: 0.0684, Train Acc: 0.9787\n",
      "Test Loss: 0.1008, Test Acc: 0.9719\n",
      "--------------------------------------------------\n",
      "Время - 65.42235398292542 секунд\n",
      "Ширина слоёв: (512, 256, 128)\n"
     ]
    },
    {
     "name": "stderr",
     "output_type": "stream",
     "text": [
      "100%|██████████| 938/938 [00:19<00:00, 47.87it/s]\n",
      "100%|██████████| 157/157 [00:02<00:00, 64.42it/s]\n"
     ]
    },
    {
     "name": "stdout",
     "output_type": "stream",
     "text": [
      "Epoch 1/3:\n",
      "Train Loss: 0.2220, Train Acc: 0.9323\n",
      "Test Loss: 0.1222, Test Acc: 0.9617\n",
      "--------------------------------------------------\n"
     ]
    },
    {
     "name": "stderr",
     "output_type": "stream",
     "text": [
      "100%|██████████| 938/938 [00:19<00:00, 47.89it/s]\n",
      "100%|██████████| 157/157 [00:02<00:00, 61.10it/s]\n"
     ]
    },
    {
     "name": "stdout",
     "output_type": "stream",
     "text": [
      "Epoch 2/3:\n",
      "Train Loss: 0.0951, Train Acc: 0.9708\n",
      "Test Loss: 0.0853, Test Acc: 0.9733\n",
      "--------------------------------------------------\n"
     ]
    },
    {
     "name": "stderr",
     "output_type": "stream",
     "text": [
      "100%|██████████| 938/938 [00:19<00:00, 48.01it/s]\n",
      "100%|██████████| 157/157 [00:02<00:00, 61.63it/s]\n"
     ]
    },
    {
     "name": "stdout",
     "output_type": "stream",
     "text": [
      "Epoch 3/3:\n",
      "Train Loss: 0.0678, Train Acc: 0.9786\n",
      "Test Loss: 0.0818, Test Acc: 0.9750\n",
      "--------------------------------------------------\n",
      "Время - 66.2889130115509 секунд\n",
      "Ширина слоёв: (512, 256, 256)\n"
     ]
    },
    {
     "name": "stderr",
     "output_type": "stream",
     "text": [
      "100%|██████████| 938/938 [00:19<00:00, 47.38it/s]\n",
      "100%|██████████| 157/157 [00:02<00:00, 62.81it/s]\n"
     ]
    },
    {
     "name": "stdout",
     "output_type": "stream",
     "text": [
      "Epoch 1/3:\n",
      "Train Loss: 0.2236, Train Acc: 0.9314\n",
      "Test Loss: 0.1261, Test Acc: 0.9595\n",
      "--------------------------------------------------\n"
     ]
    },
    {
     "name": "stderr",
     "output_type": "stream",
     "text": [
      "100%|██████████| 938/938 [00:19<00:00, 47.23it/s]\n",
      "100%|██████████| 157/157 [00:02<00:00, 63.96it/s]\n"
     ]
    },
    {
     "name": "stdout",
     "output_type": "stream",
     "text": [
      "Epoch 2/3:\n",
      "Train Loss: 0.0949, Train Acc: 0.9719\n",
      "Test Loss: 0.0837, Test Acc: 0.9746\n",
      "--------------------------------------------------\n"
     ]
    },
    {
     "name": "stderr",
     "output_type": "stream",
     "text": [
      "100%|██████████| 938/938 [00:19<00:00, 47.28it/s]\n",
      "100%|██████████| 157/157 [00:02<00:00, 63.93it/s]\n"
     ]
    },
    {
     "name": "stdout",
     "output_type": "stream",
     "text": [
      "Epoch 3/3:\n",
      "Train Loss: 0.0698, Train Acc: 0.9782\n",
      "Test Loss: 0.0772, Test Acc: 0.9778\n",
      "--------------------------------------------------\n",
      "Время - 66.91812086105347 секунд\n",
      "Ширина слоёв: (512, 256, 512)\n"
     ]
    },
    {
     "name": "stderr",
     "output_type": "stream",
     "text": [
      "100%|██████████| 938/938 [00:20<00:00, 46.59it/s]\n",
      "100%|██████████| 157/157 [00:02<00:00, 63.90it/s]\n"
     ]
    },
    {
     "name": "stdout",
     "output_type": "stream",
     "text": [
      "Epoch 1/3:\n",
      "Train Loss: 0.2204, Train Acc: 0.9324\n",
      "Test Loss: 0.1069, Test Acc: 0.9657\n",
      "--------------------------------------------------\n"
     ]
    },
    {
     "name": "stderr",
     "output_type": "stream",
     "text": [
      "100%|██████████| 938/938 [00:20<00:00, 46.51it/s]\n",
      "100%|██████████| 157/157 [00:02<00:00, 65.78it/s]\n"
     ]
    },
    {
     "name": "stdout",
     "output_type": "stream",
     "text": [
      "Epoch 2/3:\n",
      "Train Loss: 0.0960, Train Acc: 0.9712\n",
      "Test Loss: 0.0799, Test Acc: 0.9761\n",
      "--------------------------------------------------\n"
     ]
    },
    {
     "name": "stderr",
     "output_type": "stream",
     "text": [
      "100%|██████████| 938/938 [00:19<00:00, 46.95it/s]\n",
      "100%|██████████| 157/157 [00:02<00:00, 63.97it/s]\n"
     ]
    },
    {
     "name": "stdout",
     "output_type": "stream",
     "text": [
      "Epoch 3/3:\n",
      "Train Loss: 0.0688, Train Acc: 0.9780\n",
      "Test Loss: 0.0803, Test Acc: 0.9775\n",
      "--------------------------------------------------\n",
      "Время - 67.59043431282043 секунд\n",
      "Ширина слоёв: (512, 512, 128)\n"
     ]
    },
    {
     "name": "stderr",
     "output_type": "stream",
     "text": [
      "100%|██████████| 938/938 [00:19<00:00, 47.34it/s]\n",
      "100%|██████████| 157/157 [00:02<00:00, 64.91it/s]\n"
     ]
    },
    {
     "name": "stdout",
     "output_type": "stream",
     "text": [
      "Epoch 1/3:\n",
      "Train Loss: 0.2177, Train Acc: 0.9321\n",
      "Test Loss: 0.1191, Test Acc: 0.9636\n",
      "--------------------------------------------------\n"
     ]
    },
    {
     "name": "stderr",
     "output_type": "stream",
     "text": [
      "100%|██████████| 938/938 [00:20<00:00, 46.85it/s]\n",
      "100%|██████████| 157/157 [00:02<00:00, 64.62it/s]\n"
     ]
    },
    {
     "name": "stdout",
     "output_type": "stream",
     "text": [
      "Epoch 2/3:\n",
      "Train Loss: 0.0915, Train Acc: 0.9720\n",
      "Test Loss: 0.1057, Test Acc: 0.9676\n",
      "--------------------------------------------------\n"
     ]
    },
    {
     "name": "stderr",
     "output_type": "stream",
     "text": [
      "100%|██████████| 938/938 [00:19<00:00, 47.28it/s]\n",
      "100%|██████████| 157/157 [00:02<00:00, 62.72it/s]\n"
     ]
    },
    {
     "name": "stdout",
     "output_type": "stream",
     "text": [
      "Epoch 3/3:\n",
      "Train Loss: 0.0676, Train Acc: 0.9798\n",
      "Test Loss: 0.0725, Test Acc: 0.9780\n",
      "--------------------------------------------------\n",
      "Время - 67.04023814201355 секунд\n",
      "Ширина слоёв: (512, 512, 256)\n"
     ]
    },
    {
     "name": "stderr",
     "output_type": "stream",
     "text": [
      "100%|██████████| 938/938 [00:19<00:00, 47.94it/s]\n",
      "100%|██████████| 157/157 [00:02<00:00, 63.80it/s]\n"
     ]
    },
    {
     "name": "stdout",
     "output_type": "stream",
     "text": [
      "Epoch 1/3:\n",
      "Train Loss: 0.2178, Train Acc: 0.9329\n",
      "Test Loss: 0.1121, Test Acc: 0.9656\n",
      "--------------------------------------------------\n"
     ]
    },
    {
     "name": "stderr",
     "output_type": "stream",
     "text": [
      "100%|██████████| 938/938 [00:18<00:00, 49.40it/s]\n",
      "100%|██████████| 157/157 [00:02<00:00, 63.31it/s]\n"
     ]
    },
    {
     "name": "stdout",
     "output_type": "stream",
     "text": [
      "Epoch 2/3:\n",
      "Train Loss: 0.0971, Train Acc: 0.9707\n",
      "Test Loss: 0.0957, Test Acc: 0.9721\n",
      "--------------------------------------------------\n"
     ]
    },
    {
     "name": "stderr",
     "output_type": "stream",
     "text": [
      "100%|██████████| 938/938 [00:19<00:00, 47.69it/s]\n",
      "100%|██████████| 157/157 [00:02<00:00, 62.60it/s]\n"
     ]
    },
    {
     "name": "stdout",
     "output_type": "stream",
     "text": [
      "Epoch 3/3:\n",
      "Train Loss: 0.0680, Train Acc: 0.9791\n",
      "Test Loss: 0.0915, Test Acc: 0.9734\n",
      "--------------------------------------------------\n",
      "Время - 65.68119645118713 секунд\n",
      "Ширина слоёв: (512, 512, 512)\n"
     ]
    },
    {
     "name": "stderr",
     "output_type": "stream",
     "text": [
      "100%|██████████| 938/938 [00:18<00:00, 50.52it/s]\n",
      "100%|██████████| 157/157 [00:02<00:00, 64.60it/s]\n"
     ]
    },
    {
     "name": "stdout",
     "output_type": "stream",
     "text": [
      "Epoch 1/3:\n",
      "Train Loss: 0.2136, Train Acc: 0.9350\n",
      "Test Loss: 0.1203, Test Acc: 0.9641\n",
      "--------------------------------------------------\n"
     ]
    },
    {
     "name": "stderr",
     "output_type": "stream",
     "text": [
      "100%|██████████| 938/938 [00:18<00:00, 50.61it/s]\n",
      "100%|██████████| 157/157 [00:02<00:00, 62.97it/s]\n"
     ]
    },
    {
     "name": "stdout",
     "output_type": "stream",
     "text": [
      "Epoch 2/3:\n",
      "Train Loss: 0.0986, Train Acc: 0.9705\n",
      "Test Loss: 0.1113, Test Acc: 0.9677\n",
      "--------------------------------------------------\n"
     ]
    },
    {
     "name": "stderr",
     "output_type": "stream",
     "text": [
      "100%|██████████| 938/938 [00:18<00:00, 50.93it/s]\n",
      "100%|██████████| 157/157 [00:02<00:00, 62.14it/s]\n"
     ]
    },
    {
     "name": "stdout",
     "output_type": "stream",
     "text": [
      "Epoch 3/3:\n",
      "Train Loss: 0.0701, Train Acc: 0.9778\n",
      "Test Loss: 0.0772, Test Acc: 0.9767\n",
      "--------------------------------------------------\n",
      "Время - 62.983139514923096 секунд\n"
     ]
    },
    {
     "data": {
      "image/png": "[encoded data removed]",
      "text/plain": [
       "<Figure size 800x600 with 2 Axes>"
      ]
     },
     "metadata": {},
     "output_type": "display_data"
    }
   ],
   "source": [
    "import pandas as pd\n",
    "import matplotlib.pyplot as plt\n",
    "import seaborn as sns\n",
    "results = []\n",
    "configs = [128, 256, 512]\n",
    "#перебор всех возможной ширины из тройки конфига, пробуем сужение, расширение и постоянную\n",
    "for x in configs:\n",
    "    for y in configs:\n",
    "        for z in configs:\n",
    "            print(f\"Ширина слоёв: {x,y,z}\")\n",
    "            layers = []\n",
    "            #добавляем колво нейронов\n",
    "            for size in [x, y, z]:\n",
    "                layers.append({\"type\": \"linear\", \"size\": size})\n",
    "                layers.append({\"type\": \"relu\"})\n",
    "\n",
    "            model = FullyConnectedModel(\n",
    "                input_size=784,\n",
    "                num_classes=10,\n",
    "                layers=layers\n",
    "            ).to(device)\n",
    "            start = time.time()\n",
    "            history = train_model(model, train_loader, test_loader, epochs=3, device=device)\n",
    "            elapsed = time.time() - start\n",
    "            print(f'Время - {elapsed} секунд')\n",
    "\n",
    "            #сохраняем рузльтат для таблицы\n",
    "            test_acc = history[\"test_accs\"][-1]\n",
    "            train_acc = history[\"train_accs\"][-1]\n",
    "            num_params = count_parameters(model)\n",
    "            results.append({\n",
    "                \"x\": x,\n",
    "                \"y\": y,\n",
    "                \"z\": z,\n",
    "                \"test_acc\": test_acc,\n",
    "                \"train_acc\": train_acc,\n",
    "                \"params\": num_params\n",
    "            })\n",
    "\n",
    "df = pd.DataFrame(results)\n",
    "\n",
    "# Группируем по (x, z), берём максимальный test_acc среди всех y\n",
    "heatmap_data = df.groupby(['x', 'z'])['test_acc'].max().unstack()\n",
    "\n",
    "plt.figure(figsize=(8, 6))\n",
    "sns.heatmap(heatmap_data, annot=True, fmt=\".4f\", cmap=\"YlGnBu\")\n",
    "plt.title(\"Heatmap\")\n",
    "plt.xlabel(\"Слой 3 (z)\")\n",
    "plt.ylabel(\"Слой 1 (x)\")\n",
    "plt.tight_layout()\n",
    "plt.savefig(\"plots/heatmap.png\")\n",
    "plt.show()"
   ]
  },
  {
   "cell_type": "code",
   "execution_count": null,
   "id": "0f394eeb",
   "metadata": {},
   "outputs": [],
   "source": []
  }
 ],
 "metadata": {
  "kernelspec": {
   "display_name": "venv",
   "language": "python",
   "name": "python3"
  },
  "language_info": {
   "codemirror_mode": {
    "name": "ipython",
    "version": 3
   },
   "file_extension": ".py",
   "mimetype": "text/x-python",
   "name": "python",
   "nbconvert_exporter": "python",
   "pygments_lexer": "ipython3",
   "version": "3.13.5"
  }
 },
 "nbformat": 4,
 "nbformat_minor": 5
}
