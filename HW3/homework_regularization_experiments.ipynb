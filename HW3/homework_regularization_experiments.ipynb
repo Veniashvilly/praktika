{
 "cells": [
  {
   "cell_type": "markdown",
   "id": "4a9cb6a1",
   "metadata": {},
   "source": [
    "**Задание 3: Эксперименты с регуляризацией (25 баллов)**\\\n",
    "**Создайте файл homework_regularization_experiments.py:**\\\n",
    "**3.1 Сравнение техник регуляризации (15 баллов)**"
   ]
  },
  {
   "cell_type": "markdown",
   "id": "24f6e247",
   "metadata": {},
   "source": [
    "Без регуляризации\\\n",
    "Только Dropout (разные коэффициенты: 0.1, 0.3, 0.5)\\\n",
    "Только BatchNorm\\\n",
    "Dropout + BatchNorm"
   ]
  },
  {
   "cell_type": "code",
   "execution_count": 2,
   "id": "6d956d77",
   "metadata": {},
   "outputs": [
    {
     "name": "stdout",
     "output_type": "stream",
     "text": [
      "Обучение модели: no_regularization\n"
     ]
    },
    {
     "name": "stderr",
     "output_type": "stream",
     "text": [
      "100%|██████████| 938/938 [00:15<00:00, 61.18it/s]\n",
      "100%|██████████| 157/157 [00:02<00:00, 70.60it/s]\n"
     ]
    },
    {
     "name": "stdout",
     "output_type": "stream",
     "text": [
      "Epoch 1/5:\n",
      "Train Loss: 0.2784, Train Acc: 0.9176\n",
      "Test Loss: 0.1475, Test Acc: 0.9555\n",
      "--------------------------------------------------\n"
     ]
    },
    {
     "name": "stderr",
     "output_type": "stream",
     "text": [
      "100%|██████████| 938/938 [00:16<00:00, 58.39it/s]\n",
      "100%|██████████| 157/157 [00:02<00:00, 69.46it/s]\n"
     ]
    },
    {
     "name": "stdout",
     "output_type": "stream",
     "text": [
      "Epoch 2/5:\n",
      "Train Loss: 0.1165, Train Acc: 0.9648\n",
      "Test Loss: 0.1026, Test Acc: 0.9680\n",
      "--------------------------------------------------\n"
     ]
    },
    {
     "name": "stderr",
     "output_type": "stream",
     "text": [
      "100%|██████████| 938/938 [00:16<00:00, 56.01it/s]\n",
      "100%|██████████| 157/157 [00:02<00:00, 67.59it/s]\n"
     ]
    },
    {
     "name": "stdout",
     "output_type": "stream",
     "text": [
      "Epoch 3/5:\n",
      "Train Loss: 0.0813, Train Acc: 0.9746\n",
      "Test Loss: 0.0834, Test Acc: 0.9756\n",
      "--------------------------------------------------\n"
     ]
    },
    {
     "name": "stderr",
     "output_type": "stream",
     "text": [
      "100%|██████████| 938/938 [00:15<00:00, 58.94it/s]\n",
      "100%|██████████| 157/157 [00:02<00:00, 65.76it/s]\n"
     ]
    },
    {
     "name": "stdout",
     "output_type": "stream",
     "text": [
      "Epoch 4/5:\n",
      "Train Loss: 0.0610, Train Acc: 0.9806\n",
      "Test Loss: 0.0785, Test Acc: 0.9767\n",
      "--------------------------------------------------\n"
     ]
    },
    {
     "name": "stderr",
     "output_type": "stream",
     "text": [
      "100%|██████████| 938/938 [00:16<00:00, 57.66it/s]\n",
      "100%|██████████| 157/157 [00:02<00:00, 66.44it/s]\n"
     ]
    },
    {
     "name": "stdout",
     "output_type": "stream",
     "text": [
      "Epoch 5/5:\n",
      "Train Loss: 0.0498, Train Acc: 0.9840\n",
      "Test Loss: 0.0818, Test Acc: 0.9761\n",
      "--------------------------------------------------\n",
      "Обучение модели: dropout_0.1\n"
     ]
    },
    {
     "name": "stderr",
     "output_type": "stream",
     "text": [
      "100%|██████████| 938/938 [00:15<00:00, 60.06it/s]\n",
      "100%|██████████| 157/157 [00:02<00:00, 63.36it/s]\n"
     ]
    },
    {
     "name": "stdout",
     "output_type": "stream",
     "text": [
      "Epoch 1/5:\n",
      "Train Loss: 0.5714, Train Acc: 0.8257\n",
      "Test Loss: 0.2041, Test Acc: 0.9388\n",
      "--------------------------------------------------\n"
     ]
    },
    {
     "name": "stderr",
     "output_type": "stream",
     "text": [
      "100%|██████████| 938/938 [00:17<00:00, 54.75it/s]\n",
      "100%|██████████| 157/157 [00:02<00:00, 63.12it/s]\n"
     ]
    },
    {
     "name": "stdout",
     "output_type": "stream",
     "text": [
      "Epoch 2/5:\n",
      "Train Loss: 0.3288, Train Acc: 0.9064\n",
      "Test Loss: 0.1753, Test Acc: 0.9480\n",
      "--------------------------------------------------\n"
     ]
    },
    {
     "name": "stderr",
     "output_type": "stream",
     "text": [
      "100%|██████████| 938/938 [00:17<00:00, 54.82it/s]\n",
      "100%|██████████| 157/157 [00:02<00:00, 63.57it/s]\n"
     ]
    },
    {
     "name": "stdout",
     "output_type": "stream",
     "text": [
      "Epoch 3/5:\n",
      "Train Loss: 0.2884, Train Acc: 0.9195\n",
      "Test Loss: 0.1444, Test Acc: 0.9578\n",
      "--------------------------------------------------\n"
     ]
    },
    {
     "name": "stderr",
     "output_type": "stream",
     "text": [
      "100%|██████████| 938/938 [00:17<00:00, 53.03it/s]\n",
      "100%|██████████| 157/157 [00:02<00:00, 65.14it/s]\n"
     ]
    },
    {
     "name": "stdout",
     "output_type": "stream",
     "text": [
      "Epoch 4/5:\n",
      "Train Loss: 0.2556, Train Acc: 0.9280\n",
      "Test Loss: 0.1314, Test Acc: 0.9624\n",
      "--------------------------------------------------\n"
     ]
    },
    {
     "name": "stderr",
     "output_type": "stream",
     "text": [
      "100%|██████████| 938/938 [00:17<00:00, 53.02it/s]\n",
      "100%|██████████| 157/157 [00:02<00:00, 64.16it/s]\n"
     ]
    },
    {
     "name": "stdout",
     "output_type": "stream",
     "text": [
      "Epoch 5/5:\n",
      "Train Loss: 0.2402, Train Acc: 0.9324\n",
      "Test Loss: 0.1196, Test Acc: 0.9648\n",
      "--------------------------------------------------\n",
      "Обучение модели: dropout_0.3\n"
     ]
    },
    {
     "name": "stderr",
     "output_type": "stream",
     "text": [
      "100%|██████████| 938/938 [00:17<00:00, 55.15it/s]\n",
      "100%|██████████| 157/157 [00:02<00:00, 65.55it/s]\n"
     ]
    },
    {
     "name": "stdout",
     "output_type": "stream",
     "text": [
      "Epoch 1/5:\n",
      "Train Loss: 0.5721, Train Acc: 0.8250\n",
      "Test Loss: 0.1980, Test Acc: 0.9401\n",
      "--------------------------------------------------\n"
     ]
    },
    {
     "name": "stderr",
     "output_type": "stream",
     "text": [
      "100%|██████████| 938/938 [00:15<00:00, 59.94it/s]\n",
      "100%|██████████| 157/157 [00:02<00:00, 66.08it/s]\n"
     ]
    },
    {
     "name": "stdout",
     "output_type": "stream",
     "text": [
      "Epoch 2/5:\n",
      "Train Loss: 0.3306, Train Acc: 0.9051\n",
      "Test Loss: 0.1560, Test Acc: 0.9530\n",
      "--------------------------------------------------\n"
     ]
    },
    {
     "name": "stderr",
     "output_type": "stream",
     "text": [
      "100%|██████████| 938/938 [00:17<00:00, 54.91it/s]\n",
      "100%|██████████| 157/157 [00:02<00:00, 63.61it/s]\n"
     ]
    },
    {
     "name": "stdout",
     "output_type": "stream",
     "text": [
      "Epoch 3/5:\n",
      "Train Loss: 0.2894, Train Acc: 0.9183\n",
      "Test Loss: 0.1362, Test Acc: 0.9614\n",
      "--------------------------------------------------\n"
     ]
    },
    {
     "name": "stderr",
     "output_type": "stream",
     "text": [
      "100%|██████████| 938/938 [00:17<00:00, 55.11it/s]\n",
      "100%|██████████| 157/157 [00:02<00:00, 63.93it/s]\n"
     ]
    },
    {
     "name": "stdout",
     "output_type": "stream",
     "text": [
      "Epoch 4/5:\n",
      "Train Loss: 0.2626, Train Acc: 0.9262\n",
      "Test Loss: 0.1284, Test Acc: 0.9630\n",
      "--------------------------------------------------\n"
     ]
    },
    {
     "name": "stderr",
     "output_type": "stream",
     "text": [
      "100%|██████████| 938/938 [00:17<00:00, 55.13it/s]\n",
      "100%|██████████| 157/157 [00:02<00:00, 63.70it/s]\n"
     ]
    },
    {
     "name": "stdout",
     "output_type": "stream",
     "text": [
      "Epoch 5/5:\n",
      "Train Loss: 0.2457, Train Acc: 0.9310\n",
      "Test Loss: 0.1223, Test Acc: 0.9649\n",
      "--------------------------------------------------\n",
      "Обучение модели: dropout_0.5\n"
     ]
    },
    {
     "name": "stderr",
     "output_type": "stream",
     "text": [
      "100%|██████████| 938/938 [00:16<00:00, 55.58it/s]\n",
      "100%|██████████| 157/157 [00:02<00:00, 63.16it/s]\n"
     ]
    },
    {
     "name": "stdout",
     "output_type": "stream",
     "text": [
      "Epoch 1/5:\n",
      "Train Loss: 0.5722, Train Acc: 0.8266\n",
      "Test Loss: 0.2003, Test Acc: 0.9409\n",
      "--------------------------------------------------\n"
     ]
    },
    {
     "name": "stderr",
     "output_type": "stream",
     "text": [
      "100%|██████████| 938/938 [00:16<00:00, 55.41it/s]\n",
      "100%|██████████| 157/157 [00:02<00:00, 64.68it/s]\n"
     ]
    },
    {
     "name": "stdout",
     "output_type": "stream",
     "text": [
      "Epoch 2/5:\n",
      "Train Loss: 0.3265, Train Acc: 0.9095\n",
      "Test Loss: 0.1547, Test Acc: 0.9539\n",
      "--------------------------------------------------\n"
     ]
    },
    {
     "name": "stderr",
     "output_type": "stream",
     "text": [
      "100%|██████████| 938/938 [00:16<00:00, 55.23it/s]\n",
      "100%|██████████| 157/157 [00:02<00:00, 64.08it/s]\n"
     ]
    },
    {
     "name": "stdout",
     "output_type": "stream",
     "text": [
      "Epoch 3/5:\n",
      "Train Loss: 0.2770, Train Acc: 0.9229\n",
      "Test Loss: 0.1386, Test Acc: 0.9588\n",
      "--------------------------------------------------\n"
     ]
    },
    {
     "name": "stderr",
     "output_type": "stream",
     "text": [
      "100%|██████████| 938/938 [00:16<00:00, 55.34it/s]\n",
      "100%|██████████| 157/157 [00:02<00:00, 63.93it/s]\n"
     ]
    },
    {
     "name": "stdout",
     "output_type": "stream",
     "text": [
      "Epoch 4/5:\n",
      "Train Loss: 0.2564, Train Acc: 0.9292\n",
      "Test Loss: 0.1218, Test Acc: 0.9658\n",
      "--------------------------------------------------\n"
     ]
    },
    {
     "name": "stderr",
     "output_type": "stream",
     "text": [
      "100%|██████████| 938/938 [00:16<00:00, 55.52it/s]\n",
      "100%|██████████| 157/157 [00:02<00:00, 64.37it/s]\n"
     ]
    },
    {
     "name": "stdout",
     "output_type": "stream",
     "text": [
      "Epoch 5/5:\n",
      "Train Loss: 0.2328, Train Acc: 0.9342\n",
      "Test Loss: 0.1154, Test Acc: 0.9641\n",
      "--------------------------------------------------\n",
      "Обучение модели: batchnorm_only\n"
     ]
    },
    {
     "name": "stderr",
     "output_type": "stream",
     "text": [
      "100%|██████████| 938/938 [00:16<00:00, 55.84it/s]\n",
      "100%|██████████| 157/157 [00:02<00:00, 63.12it/s]\n"
     ]
    },
    {
     "name": "stdout",
     "output_type": "stream",
     "text": [
      "Epoch 1/5:\n",
      "Train Loss: 0.2737, Train Acc: 0.9205\n",
      "Test Loss: 0.1241, Test Acc: 0.9631\n",
      "--------------------------------------------------\n"
     ]
    },
    {
     "name": "stderr",
     "output_type": "stream",
     "text": [
      "100%|██████████| 938/938 [00:16<00:00, 55.70it/s]\n",
      "100%|██████████| 157/157 [00:02<00:00, 64.18it/s]\n"
     ]
    },
    {
     "name": "stdout",
     "output_type": "stream",
     "text": [
      "Epoch 2/5:\n",
      "Train Loss: 0.1079, Train Acc: 0.9668\n",
      "Test Loss: 0.0983, Test Acc: 0.9698\n",
      "--------------------------------------------------\n"
     ]
    },
    {
     "name": "stderr",
     "output_type": "stream",
     "text": [
      "100%|██████████| 938/938 [00:16<00:00, 55.66it/s]\n",
      "100%|██████████| 157/157 [00:02<00:00, 64.64it/s]\n"
     ]
    },
    {
     "name": "stdout",
     "output_type": "stream",
     "text": [
      "Epoch 3/5:\n",
      "Train Loss: 0.0770, Train Acc: 0.9762\n",
      "Test Loss: 0.0862, Test Acc: 0.9746\n",
      "--------------------------------------------------\n"
     ]
    },
    {
     "name": "stderr",
     "output_type": "stream",
     "text": [
      "100%|██████████| 938/938 [00:16<00:00, 55.60it/s]\n",
      "100%|██████████| 157/157 [00:02<00:00, 64.13it/s]\n"
     ]
    },
    {
     "name": "stdout",
     "output_type": "stream",
     "text": [
      "Epoch 4/5:\n",
      "Train Loss: 0.0595, Train Acc: 0.9807\n",
      "Test Loss: 0.0886, Test Acc: 0.9715\n",
      "--------------------------------------------------\n"
     ]
    },
    {
     "name": "stderr",
     "output_type": "stream",
     "text": [
      "100%|██████████| 938/938 [00:17<00:00, 55.17it/s]\n",
      "100%|██████████| 157/157 [00:02<00:00, 64.19it/s]\n"
     ]
    },
    {
     "name": "stdout",
     "output_type": "stream",
     "text": [
      "Epoch 5/5:\n",
      "Train Loss: 0.0473, Train Acc: 0.9844\n",
      "Test Loss: 0.0931, Test Acc: 0.9725\n",
      "--------------------------------------------------\n",
      "Обучение модели: batchnorm_dropout\n"
     ]
    },
    {
     "name": "stderr",
     "output_type": "stream",
     "text": [
      "100%|██████████| 938/938 [00:16<00:00, 55.37it/s]\n",
      "100%|██████████| 157/157 [00:02<00:00, 63.96it/s]\n"
     ]
    },
    {
     "name": "stdout",
     "output_type": "stream",
     "text": [
      "Epoch 1/5:\n",
      "Train Loss: 0.5773, Train Acc: 0.8226\n",
      "Test Loss: 0.1959, Test Acc: 0.9399\n",
      "--------------------------------------------------\n"
     ]
    },
    {
     "name": "stderr",
     "output_type": "stream",
     "text": [
      "100%|██████████| 938/938 [00:17<00:00, 54.93it/s]\n",
      "100%|██████████| 157/157 [00:02<00:00, 64.11it/s]\n"
     ]
    },
    {
     "name": "stdout",
     "output_type": "stream",
     "text": [
      "Epoch 2/5:\n",
      "Train Loss: 0.3280, Train Acc: 0.9073\n",
      "Test Loss: 0.1606, Test Acc: 0.9533\n",
      "--------------------------------------------------\n"
     ]
    },
    {
     "name": "stderr",
     "output_type": "stream",
     "text": [
      "100%|██████████| 938/938 [00:16<00:00, 55.23it/s]\n",
      "100%|██████████| 157/157 [00:02<00:00, 64.25it/s]\n"
     ]
    },
    {
     "name": "stdout",
     "output_type": "stream",
     "text": [
      "Epoch 3/5:\n",
      "Train Loss: 0.2788, Train Acc: 0.9200\n",
      "Test Loss: 0.1363, Test Acc: 0.9598\n",
      "--------------------------------------------------\n"
     ]
    },
    {
     "name": "stderr",
     "output_type": "stream",
     "text": [
      "100%|██████████| 938/938 [00:16<00:00, 55.32it/s]\n",
      "100%|██████████| 157/157 [00:02<00:00, 67.25it/s]\n"
     ]
    },
    {
     "name": "stdout",
     "output_type": "stream",
     "text": [
      "Epoch 4/5:\n",
      "Train Loss: 0.2514, Train Acc: 0.9293\n",
      "Test Loss: 0.1268, Test Acc: 0.9621\n",
      "--------------------------------------------------\n"
     ]
    },
    {
     "name": "stderr",
     "output_type": "stream",
     "text": [
      "100%|██████████| 938/938 [00:14<00:00, 62.64it/s]\n",
      "100%|██████████| 157/157 [00:02<00:00, 66.03it/s]"
     ]
    },
    {
     "name": "stdout",
     "output_type": "stream",
     "text": [
      "Epoch 5/5:\n",
      "Train Loss: 0.2386, Train Acc: 0.9328\n",
      "Test Loss: 0.1219, Test Acc: 0.9640\n",
      "--------------------------------------------------\n"
     ]
    },
    {
     "name": "stderr",
     "output_type": "stream",
     "text": [
      "\n"
     ]
    }
   ],
   "source": [
    "import torch\n",
    "from datasets import get_mnist_loaders\n",
    "from models import FullyConnectedModel\n",
    "from trainer import train_model\n",
    "from utils import plot_training_history\n",
    "\n",
    "device = torch.device('cuda' if torch.cuda.is_available() else 'cpu')\n",
    "train_loader, test_loader = get_mnist_loaders(batch_size=64)\n",
    "\n",
    "# Создал вручную конфиги\n",
    "layer_configs = {\n",
    "    \"no_regularization\": [\n",
    "        {\"type\": \"linear\", \"size\": 128},\n",
    "        {\"type\": \"relu\"},\n",
    "        {\"type\": \"linear\", \"size\": 64},\n",
    "        {\"type\": \"relu\"}\n",
    "    ],\n",
    "    \"dropout_0.1\": [\n",
    "        {\"type\": \"linear\", \"size\": 128},\n",
    "        {\"type\": \"relu\"},\n",
    "        {\"type\": \"dropout\", \"p\": 0.1},\n",
    "        {\"type\": \"linear\", \"size\": 64},\n",
    "        {\"type\": \"relu\"},\n",
    "        {\"type\": \"dropout\", \"p\": 0.1}\n",
    "    ],\n",
    "    \"dropout_0.3\": [\n",
    "        {\"type\": \"linear\", \"size\": 128},\n",
    "        {\"type\": \"relu\"},\n",
    "        {\"type\": \"dropout\", \"p\": 0.3},\n",
    "        {\"type\": \"linear\", \"size\": 64},\n",
    "        {\"type\": \"relu\"},\n",
    "        {\"type\": \"dropout\", \"p\": 0.3}\n",
    "    ],\n",
    "    \"dropout_0.5\": [\n",
    "        {\"type\": \"linear\", \"size\": 128},\n",
    "        {\"type\": \"relu\"},\n",
    "        {\"type\": \"dropout\", \"p\": 0.5},\n",
    "        {\"type\": \"linear\", \"size\": 64},\n",
    "        {\"type\": \"relu\"},\n",
    "        {\"type\": \"dropout\", \"p\": 0.5}\n",
    "    ],\n",
    "    \"batchnorm_only\": [\n",
    "        {\"type\": \"linear\", \"size\": 128},\n",
    "        {\"type\": \"batchnorm\"},\n",
    "        {\"type\": \"relu\"},\n",
    "        {\"type\": \"linear\", \"size\": 64},\n",
    "        {\"type\": \"batchnorm\"},\n",
    "        {\"type\": \"relu\"}\n",
    "    ],\n",
    "    \"batchnorm_dropout\": [\n",
    "        {\"type\": \"linear\", \"size\": 128},\n",
    "        {\"type\": \"batchnorm\"},\n",
    "        {\"type\": \"relu\"},\n",
    "        {\"type\": \"dropout\", \"p\": 0.3},\n",
    "        {\"type\": \"linear\", \"size\": 64},\n",
    "        {\"type\": \"batchnorm\"},\n",
    "        {\"type\": \"relu\"},\n",
    "        {\"type\": \"dropout\", \"p\": 0.3}\n",
    "    ]\n",
    "}\n",
    "\n",
    "# Запуск обучения\n",
    "for name, layers in layer_configs.items():\n",
    "    print(f\"Обучение модели: {name}\")\n",
    "\n",
    "    model = FullyConnectedModel(\n",
    "        input_size=784,\n",
    "        num_classes=10,\n",
    "        layers=layers\n",
    "    ).to(device)\n",
    "\n",
    "    history = train_model(model, train_loader, test_loader, epochs=5, device=str(device))"
   ]
  },
  {
   "cell_type": "markdown",
   "id": "dbbfb70b",
   "metadata": {},
   "source": [
    "L2 регуляризация (weight decay)"
   ]
  },
  {
   "cell_type": "code",
   "execution_count": 3,
   "id": "9956d435",
   "metadata": {},
   "outputs": [
    {
     "name": "stdout",
     "output_type": "stream",
     "text": [
      "Обучение модели с L2 регуляризацией\n"
     ]
    },
    {
     "name": "stderr",
     "output_type": "stream",
     "text": [
      "100%|██████████| 938/938 [00:15<00:00, 58.81it/s]\n",
      "100%|██████████| 157/157 [00:02<00:00, 66.78it/s]\n"
     ]
    },
    {
     "name": "stdout",
     "output_type": "stream",
     "text": [
      "Epoch 1/5:\n",
      "Train Loss: 0.2265, Train Acc: 0.9317\n",
      "Test Loss: 0.1032, Test Acc: 0.9663\n",
      "--------------------------------------------------\n"
     ]
    },
    {
     "name": "stderr",
     "output_type": "stream",
     "text": [
      "100%|██████████| 938/938 [00:16<00:00, 56.22it/s]\n",
      "100%|██████████| 157/157 [00:02<00:00, 67.09it/s]\n"
     ]
    },
    {
     "name": "stdout",
     "output_type": "stream",
     "text": [
      "Epoch 2/5:\n",
      "Train Loss: 0.0941, Train Acc: 0.9706\n",
      "Test Loss: 0.0776, Test Acc: 0.9749\n",
      "--------------------------------------------------\n"
     ]
    },
    {
     "name": "stderr",
     "output_type": "stream",
     "text": [
      "100%|██████████| 938/938 [00:16<00:00, 58.35it/s]\n",
      "100%|██████████| 157/157 [00:02<00:00, 67.92it/s]\n"
     ]
    },
    {
     "name": "stdout",
     "output_type": "stream",
     "text": [
      "Epoch 3/5:\n",
      "Train Loss: 0.0672, Train Acc: 0.9794\n",
      "Test Loss: 0.0707, Test Acc: 0.9780\n",
      "--------------------------------------------------\n"
     ]
    },
    {
     "name": "stderr",
     "output_type": "stream",
     "text": [
      "100%|██████████| 938/938 [00:16<00:00, 58.07it/s]\n",
      "100%|██████████| 157/157 [00:02<00:00, 68.12it/s]\n"
     ]
    },
    {
     "name": "stdout",
     "output_type": "stream",
     "text": [
      "Epoch 4/5:\n",
      "Train Loss: 0.0528, Train Acc: 0.9834\n",
      "Test Loss: 0.0710, Test Acc: 0.9776\n",
      "--------------------------------------------------\n"
     ]
    },
    {
     "name": "stderr",
     "output_type": "stream",
     "text": [
      "100%|██████████| 938/938 [00:16<00:00, 57.12it/s]\n",
      "100%|██████████| 157/157 [00:02<00:00, 67.84it/s]"
     ]
    },
    {
     "name": "stdout",
     "output_type": "stream",
     "text": [
      "Epoch 5/5:\n",
      "Train Loss: 0.0456, Train Acc: 0.9853\n",
      "Test Loss: 0.0774, Test Acc: 0.9767\n",
      "--------------------------------------------------\n"
     ]
    },
    {
     "name": "stderr",
     "output_type": "stream",
     "text": [
      "\n"
     ]
    }
   ],
   "source": [
    "l2_layers = [\n",
    "    {\"type\": \"linear\", \"size\": 256},\n",
    "    {\"type\": \"relu\"},\n",
    "    {\"type\": \"linear\", \"size\": 128},\n",
    "    {\"type\": \"relu\"}\n",
    "]\n",
    "\n",
    "model = FullyConnectedModel(\n",
    "    input_size=784,\n",
    "    num_classes=10,\n",
    "    layers=l2_layers\n",
    ").to(device)\n",
    "\n",
    "print(\"Обучение модели с L2 регуляризацией\")\n",
    "\n",
    "history = train_model(\n",
    "    model,\n",
    "    train_loader,\n",
    "    test_loader,\n",
    "    epochs=5,\n",
    "    device=device,\n",
    "    weight_decay=1e-4 \n",
    ")\n"
   ]
  },
  {
   "cell_type": "markdown",
   "id": "2e097ade",
   "metadata": {},
   "source": [
    "**Визуализация весов**"
   ]
  },
  {
   "cell_type": "code",
   "execution_count": 5,
   "id": "97a36e6c",
   "metadata": {},
   "outputs": [
    {
     "data": {
      "image/png": "[encoded data removed]",
      "text/plain": [
       "<Figure size 800x400 with 1 Axes>"
      ]
     },
     "metadata": {},
     "output_type": "display_data"
    }
   ],
   "source": [
    "import matplotlib.pyplot as plt\n",
    "\n",
    "weights = []\n",
    "for layer in model.modules():\n",
    "    if isinstance(layer, torch.nn.Linear):\n",
    "        weights.extend(layer.weight.detach().cpu().numpy().flatten())\n",
    "save_path=\"plots/weights_l2.png\"\n",
    "plt.figure(figsize=(8, 4))\n",
    "plt.hist(weights, bins=50, edgecolor='black')\n",
    "plt.title(\"Распределение весов\")\n",
    "plt.xlabel(\"Значение веса\")\n",
    "plt.ylabel(\"Частота\")\n",
    "plt.tight_layout()\n",
    "\n",
    "plt.savefig(save_path)\n",
    "plt.show()"
   ]
  },
  {
   "cell_type": "code",
   "execution_count": null,
   "id": "f858c5fe",
   "metadata": {},
   "outputs": [],
   "source": []
  }
 ],
 "metadata": {
  "kernelspec": {
   "display_name": "venv",
   "language": "python",
   "name": "python3"
  },
  "language_info": {
   "codemirror_mode": {
    "name": "ipython",
    "version": 3
   },
   "file_extension": ".py",
   "mimetype": "text/x-python",
   "name": "python",
   "nbconvert_exporter": "python",
   "pygments_lexer": "ipython3",
   "version": "3.13.5"
  }
 },
 "nbformat": 4,
 "nbformat_minor": 5
}
