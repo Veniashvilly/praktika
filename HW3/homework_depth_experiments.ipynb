{
 "cells": [
  {
   "cell_type": "markdown",
   "id": "4e9293ef",
   "metadata": {},
   "source": [
    "**Домашнее задание к уроку 3: Полносвязные сети**\\\n",
    "**Цель задания**\\\n",
    "**Изучить влияние архитектуры полносвязных сетей на качество классификации, провести эксперименты с различными конфигурациями моделей.**\\\n",
    "\n",
    "**Задание 1: Эксперименты с глубиной сети (30 баллов)**\\\n",
    "**1.1 Сравнение моделей разной глубины (15 баллов)**"
   ]
  },
  {
   "cell_type": "code",
   "execution_count": 5,
   "id": "3c67ca2a",
   "metadata": {},
   "outputs": [
    {
     "name": "stdout",
     "output_type": "stream",
     "text": [
      "Обучение модели: 1_layer\n"
     ]
    },
    {
     "name": "stderr",
     "output_type": "stream",
     "text": [
      "100%|██████████| 938/938 [00:14<00:00, 64.64it/s]\n",
      "100%|██████████| 157/157 [00:02<00:00, 71.35it/s]\n"
     ]
    },
    {
     "name": "stdout",
     "output_type": "stream",
     "text": [
      "Epoch 1/5:\n",
      "Train Loss: 0.3923, Train Acc: 0.8888\n",
      "Test Loss: 0.2867, Test Acc: 0.9213\n",
      "--------------------------------------------------\n"
     ]
    },
    {
     "name": "stderr",
     "output_type": "stream",
     "text": [
      "100%|██████████| 938/938 [00:14<00:00, 65.06it/s]\n",
      "100%|██████████| 157/157 [00:02<00:00, 68.69it/s]\n"
     ]
    },
    {
     "name": "stdout",
     "output_type": "stream",
     "text": [
      "Epoch 2/5:\n",
      "Train Loss: 0.2937, Train Acc: 0.9167\n",
      "Test Loss: 0.2767, Test Acc: 0.9229\n",
      "--------------------------------------------------\n"
     ]
    },
    {
     "name": "stderr",
     "output_type": "stream",
     "text": [
      "100%|██████████| 938/938 [00:15<00:00, 61.43it/s]\n",
      "100%|██████████| 157/157 [00:02<00:00, 70.35it/s]\n"
     ]
    },
    {
     "name": "stdout",
     "output_type": "stream",
     "text": [
      "Epoch 3/5:\n",
      "Train Loss: 0.2803, Train Acc: 0.9212\n",
      "Test Loss: 0.2850, Test Acc: 0.9198\n",
      "--------------------------------------------------\n"
     ]
    },
    {
     "name": "stderr",
     "output_type": "stream",
     "text": [
      "100%|██████████| 938/938 [00:14<00:00, 64.89it/s]\n",
      "100%|██████████| 157/157 [00:02<00:00, 70.21it/s]\n"
     ]
    },
    {
     "name": "stdout",
     "output_type": "stream",
     "text": [
      "Epoch 4/5:\n",
      "Train Loss: 0.2750, Train Acc: 0.9226\n",
      "Test Loss: 0.2745, Test Acc: 0.9262\n",
      "--------------------------------------------------\n"
     ]
    },
    {
     "name": "stderr",
     "output_type": "stream",
     "text": [
      "100%|██████████| 938/938 [00:14<00:00, 66.00it/s]\n",
      "100%|██████████| 157/157 [00:02<00:00, 70.39it/s]\n"
     ]
    },
    {
     "name": "stdout",
     "output_type": "stream",
     "text": [
      "Epoch 5/5:\n",
      "Train Loss: 0.2698, Train Acc: 0.9244\n",
      "Test Loss: 0.2770, Test Acc: 0.9197\n",
      "--------------------------------------------------\n",
      "Time:  84.07 секунд\n",
      "Обучение модели: 2_layers\n"
     ]
    },
    {
     "name": "stderr",
     "output_type": "stream",
     "text": [
      "100%|██████████| 938/938 [00:15<00:00, 60.84it/s]\n",
      "100%|██████████| 157/157 [00:02<00:00, 69.65it/s]\n"
     ]
    },
    {
     "name": "stdout",
     "output_type": "stream",
     "text": [
      "Epoch 1/5:\n",
      "Train Loss: 0.2545, Train Acc: 0.9262\n",
      "Test Loss: 0.1282, Test Acc: 0.9618\n",
      "--------------------------------------------------\n"
     ]
    },
    {
     "name": "stderr",
     "output_type": "stream",
     "text": [
      "100%|██████████| 938/938 [00:15<00:00, 60.99it/s]\n",
      "100%|██████████| 157/157 [00:02<00:00, 66.94it/s]\n"
     ]
    },
    {
     "name": "stdout",
     "output_type": "stream",
     "text": [
      "Epoch 2/5:\n",
      "Train Loss: 0.1122, Train Acc: 0.9664\n",
      "Test Loss: 0.0936, Test Acc: 0.9710\n",
      "--------------------------------------------------\n"
     ]
    },
    {
     "name": "stderr",
     "output_type": "stream",
     "text": [
      "100%|██████████| 938/938 [00:15<00:00, 60.64it/s]\n",
      "100%|██████████| 157/157 [00:02<00:00, 72.18it/s]\n"
     ]
    },
    {
     "name": "stdout",
     "output_type": "stream",
     "text": [
      "Epoch 3/5:\n",
      "Train Loss: 0.0772, Train Acc: 0.9767\n",
      "Test Loss: 0.0910, Test Acc: 0.9705\n",
      "--------------------------------------------------\n"
     ]
    },
    {
     "name": "stderr",
     "output_type": "stream",
     "text": [
      "100%|██████████| 938/938 [00:15<00:00, 59.34it/s]\n",
      "100%|██████████| 157/157 [00:02<00:00, 64.55it/s]\n"
     ]
    },
    {
     "name": "stdout",
     "output_type": "stream",
     "text": [
      "Epoch 4/5:\n",
      "Train Loss: 0.0582, Train Acc: 0.9815\n",
      "Test Loss: 0.0773, Test Acc: 0.9770\n",
      "--------------------------------------------------\n"
     ]
    },
    {
     "name": "stderr",
     "output_type": "stream",
     "text": [
      "100%|██████████| 938/938 [00:16<00:00, 58.42it/s]\n",
      "100%|██████████| 157/157 [00:03<00:00, 51.11it/s]\n"
     ]
    },
    {
     "name": "stdout",
     "output_type": "stream",
     "text": [
      "Epoch 5/5:\n",
      "Train Loss: 0.0464, Train Acc: 0.9854\n",
      "Test Loss: 0.0824, Test Acc: 0.9751\n",
      "--------------------------------------------------\n",
      "Time:  90.43 секунд\n",
      "Обучение модели: 3_layers\n"
     ]
    },
    {
     "name": "stderr",
     "output_type": "stream",
     "text": [
      "100%|██████████| 938/938 [00:16<00:00, 55.77it/s]\n",
      "100%|██████████| 157/157 [00:02<00:00, 65.39it/s]\n"
     ]
    },
    {
     "name": "stdout",
     "output_type": "stream",
     "text": [
      "Epoch 1/5:\n",
      "Train Loss: 0.2277, Train Acc: 0.9309\n",
      "Test Loss: 0.1194, Test Acc: 0.9634\n",
      "--------------------------------------------------\n"
     ]
    },
    {
     "name": "stderr",
     "output_type": "stream",
     "text": [
      "100%|██████████| 938/938 [00:16<00:00, 57.88it/s]\n",
      "100%|██████████| 157/157 [00:02<00:00, 71.24it/s]\n"
     ]
    },
    {
     "name": "stdout",
     "output_type": "stream",
     "text": [
      "Epoch 2/5:\n",
      "Train Loss: 0.0948, Train Acc: 0.9703\n",
      "Test Loss: 0.0926, Test Acc: 0.9714\n",
      "--------------------------------------------------\n"
     ]
    },
    {
     "name": "stderr",
     "output_type": "stream",
     "text": [
      "100%|██████████| 938/938 [00:16<00:00, 57.99it/s]\n",
      "100%|██████████| 157/157 [00:02<00:00, 63.18it/s]\n"
     ]
    },
    {
     "name": "stdout",
     "output_type": "stream",
     "text": [
      "Epoch 3/5:\n",
      "Train Loss: 0.0630, Train Acc: 0.9797\n",
      "Test Loss: 0.0761, Test Acc: 0.9769\n",
      "--------------------------------------------------\n"
     ]
    },
    {
     "name": "stderr",
     "output_type": "stream",
     "text": [
      "100%|██████████| 938/938 [00:16<00:00, 57.47it/s]\n",
      "100%|██████████| 157/157 [00:02<00:00, 64.78it/s]\n"
     ]
    },
    {
     "name": "stdout",
     "output_type": "stream",
     "text": [
      "Epoch 4/5:\n",
      "Train Loss: 0.0499, Train Acc: 0.9840\n",
      "Test Loss: 0.0815, Test Acc: 0.9743\n",
      "--------------------------------------------------\n"
     ]
    },
    {
     "name": "stderr",
     "output_type": "stream",
     "text": [
      "100%|██████████| 938/938 [00:16<00:00, 57.34it/s]\n",
      "100%|██████████| 157/157 [00:02<00:00, 70.03it/s]\n"
     ]
    },
    {
     "name": "stdout",
     "output_type": "stream",
     "text": [
      "Epoch 5/5:\n",
      "Train Loss: 0.0406, Train Acc: 0.9862\n",
      "Test Loss: 0.0839, Test Acc: 0.9761\n",
      "--------------------------------------------------\n",
      "Time:  93.66 секунд\n",
      "Обучение модели: 5_layers\n"
     ]
    },
    {
     "name": "stderr",
     "output_type": "stream",
     "text": [
      "100%|██████████| 938/938 [00:17<00:00, 53.16it/s]\n",
      "100%|██████████| 157/157 [00:02<00:00, 63.90it/s]\n"
     ]
    },
    {
     "name": "stdout",
     "output_type": "stream",
     "text": [
      "Epoch 1/5:\n",
      "Train Loss: 0.2505, Train Acc: 0.9213\n",
      "Test Loss: 0.1194, Test Acc: 0.9626\n",
      "--------------------------------------------------\n"
     ]
    },
    {
     "name": "stderr",
     "output_type": "stream",
     "text": [
      "100%|██████████| 938/938 [00:17<00:00, 54.33it/s]\n",
      "100%|██████████| 157/157 [00:02<00:00, 69.25it/s]\n"
     ]
    },
    {
     "name": "stdout",
     "output_type": "stream",
     "text": [
      "Epoch 2/5:\n",
      "Train Loss: 0.1011, Train Acc: 0.9691\n",
      "Test Loss: 0.1184, Test Acc: 0.9653\n",
      "--------------------------------------------------\n"
     ]
    },
    {
     "name": "stderr",
     "output_type": "stream",
     "text": [
      "100%|██████████| 938/938 [00:18<00:00, 52.07it/s]\n",
      "100%|██████████| 157/157 [00:02<00:00, 63.80it/s]\n"
     ]
    },
    {
     "name": "stdout",
     "output_type": "stream",
     "text": [
      "Epoch 3/5:\n",
      "Train Loss: 0.0747, Train Acc: 0.9770\n",
      "Test Loss: 0.0855, Test Acc: 0.9731\n",
      "--------------------------------------------------\n"
     ]
    },
    {
     "name": "stderr",
     "output_type": "stream",
     "text": [
      "100%|██████████| 938/938 [00:17<00:00, 52.94it/s]\n",
      "100%|██████████| 157/157 [00:02<00:00, 59.03it/s]\n"
     ]
    },
    {
     "name": "stdout",
     "output_type": "stream",
     "text": [
      "Epoch 4/5:\n",
      "Train Loss: 0.0556, Train Acc: 0.9826\n",
      "Test Loss: 0.0904, Test Acc: 0.9743\n",
      "--------------------------------------------------\n"
     ]
    },
    {
     "name": "stderr",
     "output_type": "stream",
     "text": [
      "100%|██████████| 938/938 [00:17<00:00, 53.95it/s]\n",
      "100%|██████████| 157/157 [00:02<00:00, 63.77it/s]\n"
     ]
    },
    {
     "name": "stdout",
     "output_type": "stream",
     "text": [
      "Epoch 5/5:\n",
      "Train Loss: 0.0485, Train Acc: 0.9851\n",
      "Test Loss: 0.0782, Test Acc: 0.9780\n",
      "--------------------------------------------------\n",
      "Time:  100.36 секунд\n",
      "Обучение модели: 7_layers\n"
     ]
    },
    {
     "name": "stderr",
     "output_type": "stream",
     "text": [
      "100%|██████████| 938/938 [00:17<00:00, 53.77it/s]\n",
      "100%|██████████| 157/157 [00:02<00:00, 62.85it/s]\n"
     ]
    },
    {
     "name": "stdout",
     "output_type": "stream",
     "text": [
      "Epoch 1/5:\n",
      "Train Loss: 0.3826, Train Acc: 0.8788\n",
      "Test Loss: 0.1461, Test Acc: 0.9571\n",
      "--------------------------------------------------\n"
     ]
    },
    {
     "name": "stderr",
     "output_type": "stream",
     "text": [
      "100%|██████████| 938/938 [00:18<00:00, 50.67it/s]\n",
      "100%|██████████| 157/157 [00:02<00:00, 63.86it/s]\n"
     ]
    },
    {
     "name": "stdout",
     "output_type": "stream",
     "text": [
      "Epoch 2/5:\n",
      "Train Loss: 0.1203, Train Acc: 0.9654\n",
      "Test Loss: 0.1131, Test Acc: 0.9682\n",
      "--------------------------------------------------\n"
     ]
    },
    {
     "name": "stderr",
     "output_type": "stream",
     "text": [
      "100%|██████████| 938/938 [00:17<00:00, 52.67it/s]\n",
      "100%|██████████| 157/157 [00:02<00:00, 61.10it/s]\n"
     ]
    },
    {
     "name": "stdout",
     "output_type": "stream",
     "text": [
      "Epoch 3/5:\n",
      "Train Loss: 0.0856, Train Acc: 0.9749\n",
      "Test Loss: 0.1063, Test Acc: 0.9681\n",
      "--------------------------------------------------\n"
     ]
    },
    {
     "name": "stderr",
     "output_type": "stream",
     "text": [
      "100%|██████████| 938/938 [00:18<00:00, 51.78it/s]\n",
      "100%|██████████| 157/157 [00:02<00:00, 63.49it/s]\n"
     ]
    },
    {
     "name": "stdout",
     "output_type": "stream",
     "text": [
      "Epoch 4/5:\n",
      "Train Loss: 0.0677, Train Acc: 0.9803\n",
      "Test Loss: 0.0916, Test Acc: 0.9761\n",
      "--------------------------------------------------\n"
     ]
    },
    {
     "name": "stderr",
     "output_type": "stream",
     "text": [
      "100%|██████████| 938/938 [00:17<00:00, 54.54it/s]\n",
      "100%|██████████| 157/157 [00:02<00:00, 61.46it/s]\n"
     ]
    },
    {
     "name": "stdout",
     "output_type": "stream",
     "text": [
      "Epoch 5/5:\n",
      "Train Loss: 0.0527, Train Acc: 0.9844\n",
      "Test Loss: 0.0822, Test Acc: 0.9778\n",
      "--------------------------------------------------\n",
      "Time:  101.66 секунд\n"
     ]
    }
   ],
   "source": [
    "import torch\n",
    "import time\n",
    "from datasets import get_mnist_loaders\n",
    "from models import FullyConnectedModel\n",
    "from trainer import train_model\n",
    "from utils import plot_training_history\n",
    "\n",
    "device = torch.device('cuda' if torch.cuda.is_available() else 'cpu')\n",
    "train_loader, test_loader = get_mnist_loaders(batch_size=64)\n",
    "\n",
    "#Конфигурации слоёв\n",
    "layer_configs = {\n",
    "    \"1_layer\": [],\n",
    "    \"2_layers\": [\n",
    "        {\"type\": \"linear\", \"size\": 128},\n",
    "        {\"type\": \"relu\"}\n",
    "    ],\n",
    "    \"3_layers\": [\n",
    "        {\"type\": \"linear\", \"size\": 256},\n",
    "        {\"type\": \"relu\"},\n",
    "        {\"type\": \"linear\", \"size\": 128},\n",
    "        {\"type\": \"relu\"}\n",
    "    ],\n",
    "    \"5_layers\": [\n",
    "        {\"type\": \"linear\", \"size\": 512},\n",
    "        {\"type\": \"relu\"},\n",
    "        {\"type\": \"linear\", \"size\": 256},\n",
    "        {\"type\": \"relu\"},\n",
    "        {\"type\": \"linear\", \"size\": 128},\n",
    "        {\"type\": \"relu\"},\n",
    "        {\"type\": \"linear\", \"size\": 64},\n",
    "        {\"type\": \"relu\"}\n",
    "    ],\n",
    "    \"7_layers\": [\n",
    "        {\"type\": \"linear\", \"size\": 512},\n",
    "        {\"type\": \"relu\"},\n",
    "        {\"type\": \"linear\", \"size\": 256},\n",
    "        {\"type\": \"relu\"},\n",
    "        {\"type\": \"linear\", \"size\": 128},\n",
    "        {\"type\": \"relu\"},\n",
    "        {\"type\": \"linear\", \"size\": 64},\n",
    "        {\"type\": \"relu\"},\n",
    "        {\"type\": \"linear\", \"size\": 32},\n",
    "        {\"type\": \"relu\"},\n",
    "        {\"type\": \"linear\", \"size\": 16},\n",
    "        {\"type\": \"relu\"}\n",
    "    ]\n",
    "}\n",
    "\n",
    "#Запуск\n",
    "for name, layers in layer_configs.items():\n",
    "    print(f\"Обучение модели: {name}\")\n",
    "\n",
    "    model = FullyConnectedModel(\n",
    "        input_size=784,\n",
    "        num_classes=10,\n",
    "        layers=layers\n",
    "    ).to(device)\n",
    "\n",
    "    #Замер времени\n",
    "    start_time = time.time()\n",
    "    history = train_model(model, train_loader, test_loader, epochs=5, device=str(device))\n",
    "    train_time = time.time() - start_time\n",
    "\n",
    "    #Вывод результатов\n",
    "    train_acc = history['train_accs'][-1]\n",
    "    test_acc = history['test_accs'][-1]\n",
    "\n",
    "    print(f\"Time:  {train_time:.2f} секунд\")\n",
    "\n",
    "    #Сохранение графика\n",
    "    plot_path = f\"plots/{name}_mnist.png\"\n",
    "    plot_training_history(history, save_path=plot_path)\n"
   ]
  },
  {
   "cell_type": "markdown",
   "id": "2404f86f",
   "metadata": {},
   "source": [
    "**Вывод по времени и точности в отчете, графики в папке plots**"
   ]
  },
  {
   "cell_type": "markdown",
   "id": "ede44ce6",
   "metadata": {},
   "source": [
    "**1.2 Анализ переобучения (15 баллов)**"
   ]
  },
  {
   "cell_type": "markdown",
   "id": "c2bafa7f",
   "metadata": {},
   "source": [
    "Построение графиков для cifar с такими же конфигурациями"
   ]
  },
  {
   "cell_type": "code",
   "execution_count": 7,
   "id": "e86642a8",
   "metadata": {},
   "outputs": [
    {
     "name": "stdout",
     "output_type": "stream",
     "text": [
      "Обучение модели: 1_layer\n"
     ]
    },
    {
     "name": "stderr",
     "output_type": "stream",
     "text": [
      "100%|██████████| 782/782 [00:14<00:00, 55.82it/s]\n",
      "100%|██████████| 157/157 [00:02<00:00, 61.17it/s]\n"
     ]
    },
    {
     "name": "stdout",
     "output_type": "stream",
     "text": [
      "Epoch 1/5:\n",
      "Train Loss: 2.0495, Train Acc: 0.3296\n",
      "Test Loss: 2.0747, Test Acc: 0.3240\n",
      "--------------------------------------------------\n"
     ]
    },
    {
     "name": "stderr",
     "output_type": "stream",
     "text": [
      "100%|██████████| 782/782 [00:13<00:00, 56.40it/s]\n",
      "100%|██████████| 157/157 [00:02<00:00, 61.89it/s]\n"
     ]
    },
    {
     "name": "stdout",
     "output_type": "stream",
     "text": [
      "Epoch 2/5:\n",
      "Train Loss: 1.9701, Train Acc: 0.3557\n",
      "Test Loss: 2.2386, Test Acc: 0.3170\n",
      "--------------------------------------------------\n"
     ]
    },
    {
     "name": "stderr",
     "output_type": "stream",
     "text": [
      "100%|██████████| 782/782 [00:13<00:00, 56.91it/s]\n",
      "100%|██████████| 157/157 [00:02<00:00, 62.77it/s]\n"
     ]
    },
    {
     "name": "stdout",
     "output_type": "stream",
     "text": [
      "Epoch 3/5:\n",
      "Train Loss: 1.9462, Train Acc: 0.3627\n",
      "Test Loss: 2.1156, Test Acc: 0.3451\n",
      "--------------------------------------------------\n"
     ]
    },
    {
     "name": "stderr",
     "output_type": "stream",
     "text": [
      "100%|██████████| 782/782 [00:13<00:00, 56.57it/s]\n",
      "100%|██████████| 157/157 [00:02<00:00, 62.52it/s]\n"
     ]
    },
    {
     "name": "stdout",
     "output_type": "stream",
     "text": [
      "Epoch 4/5:\n",
      "Train Loss: 1.9555, Train Acc: 0.3633\n",
      "Test Loss: 1.9497, Test Acc: 0.3557\n",
      "--------------------------------------------------\n"
     ]
    },
    {
     "name": "stderr",
     "output_type": "stream",
     "text": [
      "100%|██████████| 782/782 [00:14<00:00, 55.64it/s]\n",
      "100%|██████████| 157/157 [00:02<00:00, 61.81it/s]\n"
     ]
    },
    {
     "name": "stdout",
     "output_type": "stream",
     "text": [
      "Epoch 5/5:\n",
      "Train Loss: 1.9309, Train Acc: 0.3746\n",
      "Test Loss: 2.0675, Test Acc: 0.3317\n",
      "--------------------------------------------------\n",
      "Time:  82.17 секунд\n",
      "Обучение модели: 2_layers\n"
     ]
    },
    {
     "name": "stderr",
     "output_type": "stream",
     "text": [
      "100%|██████████| 782/782 [00:14<00:00, 53.75it/s]\n",
      "100%|██████████| 157/157 [00:02<00:00, 58.19it/s]\n"
     ]
    },
    {
     "name": "stdout",
     "output_type": "stream",
     "text": [
      "Epoch 1/5:\n",
      "Train Loss: 1.6966, Train Acc: 0.4138\n",
      "Test Loss: 1.5330, Test Acc: 0.4612\n",
      "--------------------------------------------------\n"
     ]
    },
    {
     "name": "stderr",
     "output_type": "stream",
     "text": [
      "100%|██████████| 782/782 [00:15<00:00, 49.36it/s]\n",
      "100%|██████████| 157/157 [00:02<00:00, 59.95it/s]\n"
     ]
    },
    {
     "name": "stdout",
     "output_type": "stream",
     "text": [
      "Epoch 2/5:\n",
      "Train Loss: 1.4826, Train Acc: 0.4843\n",
      "Test Loss: 1.4984, Test Acc: 0.4780\n",
      "--------------------------------------------------\n"
     ]
    },
    {
     "name": "stderr",
     "output_type": "stream",
     "text": [
      "100%|██████████| 782/782 [00:15<00:00, 52.04it/s]\n",
      "100%|██████████| 157/157 [00:02<00:00, 59.52it/s]\n"
     ]
    },
    {
     "name": "stdout",
     "output_type": "stream",
     "text": [
      "Epoch 3/5:\n",
      "Train Loss: 1.4083, Train Acc: 0.5079\n",
      "Test Loss: 1.4897, Test Acc: 0.4803\n",
      "--------------------------------------------------\n"
     ]
    },
    {
     "name": "stderr",
     "output_type": "stream",
     "text": [
      "100%|██████████| 782/782 [00:15<00:00, 51.14it/s]\n",
      "100%|██████████| 157/157 [00:02<00:00, 56.81it/s]\n"
     ]
    },
    {
     "name": "stdout",
     "output_type": "stream",
     "text": [
      "Epoch 4/5:\n",
      "Train Loss: 1.3593, Train Acc: 0.5294\n",
      "Test Loss: 1.5124, Test Acc: 0.4789\n",
      "--------------------------------------------------\n"
     ]
    },
    {
     "name": "stderr",
     "output_type": "stream",
     "text": [
      "100%|██████████| 782/782 [00:14<00:00, 52.58it/s]\n",
      "100%|██████████| 157/157 [00:02<00:00, 57.91it/s]\n"
     ]
    },
    {
     "name": "stdout",
     "output_type": "stream",
     "text": [
      "Epoch 5/5:\n",
      "Train Loss: 1.3063, Train Acc: 0.5464\n",
      "Test Loss: 1.4899, Test Acc: 0.4891\n",
      "--------------------------------------------------\n",
      "Time:  89.03 секунд\n",
      "Обучение модели: 3_layers\n"
     ]
    },
    {
     "name": "stderr",
     "output_type": "stream",
     "text": [
      "100%|██████████| 782/782 [00:16<00:00, 46.90it/s]\n",
      "100%|██████████| 157/157 [00:02<00:00, 58.64it/s]\n"
     ]
    },
    {
     "name": "stdout",
     "output_type": "stream",
     "text": [
      "Epoch 1/5:\n",
      "Train Loss: 1.6605, Train Acc: 0.4106\n",
      "Test Loss: 1.5151, Test Acc: 0.4642\n",
      "--------------------------------------------------\n"
     ]
    },
    {
     "name": "stderr",
     "output_type": "stream",
     "text": [
      "100%|██████████| 782/782 [00:16<00:00, 48.82it/s]\n",
      "100%|██████████| 157/157 [00:02<00:00, 59.78it/s]\n"
     ]
    },
    {
     "name": "stdout",
     "output_type": "stream",
     "text": [
      "Epoch 2/5:\n",
      "Train Loss: 1.4617, Train Acc: 0.4843\n",
      "Test Loss: 1.4576, Test Acc: 0.4838\n",
      "--------------------------------------------------\n"
     ]
    },
    {
     "name": "stderr",
     "output_type": "stream",
     "text": [
      "100%|██████████| 782/782 [00:15<00:00, 51.49it/s]\n",
      "100%|██████████| 157/157 [00:02<00:00, 59.55it/s]\n"
     ]
    },
    {
     "name": "stdout",
     "output_type": "stream",
     "text": [
      "Epoch 3/5:\n",
      "Train Loss: 1.3660, Train Acc: 0.5169\n",
      "Test Loss: 1.4304, Test Acc: 0.4975\n",
      "--------------------------------------------------\n"
     ]
    },
    {
     "name": "stderr",
     "output_type": "stream",
     "text": [
      "100%|██████████| 782/782 [00:16<00:00, 47.45it/s]\n",
      "100%|██████████| 157/157 [00:02<00:00, 58.93it/s]\n"
     ]
    },
    {
     "name": "stdout",
     "output_type": "stream",
     "text": [
      "Epoch 4/5:\n",
      "Train Loss: 1.2841, Train Acc: 0.5474\n",
      "Test Loss: 1.4367, Test Acc: 0.5081\n",
      "--------------------------------------------------\n"
     ]
    },
    {
     "name": "stderr",
     "output_type": "stream",
     "text": [
      "100%|██████████| 782/782 [00:14<00:00, 52.65it/s]\n",
      "100%|██████████| 157/157 [00:02<00:00, 63.38it/s]\n"
     ]
    },
    {
     "name": "stdout",
     "output_type": "stream",
     "text": [
      "Epoch 5/5:\n",
      "Train Loss: 1.2213, Train Acc: 0.5679\n",
      "Test Loss: 1.3893, Test Acc: 0.5189\n",
      "--------------------------------------------------\n",
      "Time:  92.32 секунд\n",
      "Обучение модели: 5_layers\n"
     ]
    },
    {
     "name": "stderr",
     "output_type": "stream",
     "text": [
      "100%|██████████| 782/782 [00:17<00:00, 44.61it/s]\n",
      "100%|██████████| 157/157 [00:02<00:00, 56.22it/s]\n"
     ]
    },
    {
     "name": "stdout",
     "output_type": "stream",
     "text": [
      "Epoch 1/5:\n",
      "Train Loss: 1.6851, Train Acc: 0.3994\n",
      "Test Loss: 1.5270, Test Acc: 0.4679\n",
      "--------------------------------------------------\n"
     ]
    },
    {
     "name": "stderr",
     "output_type": "stream",
     "text": [
      "100%|██████████| 782/782 [00:16<00:00, 47.27it/s]\n",
      "100%|██████████| 157/157 [00:02<00:00, 58.17it/s]\n"
     ]
    },
    {
     "name": "stdout",
     "output_type": "stream",
     "text": [
      "Epoch 2/5:\n",
      "Train Loss: 1.4694, Train Acc: 0.4801\n",
      "Test Loss: 1.4790, Test Acc: 0.4772\n",
      "--------------------------------------------------\n"
     ]
    },
    {
     "name": "stderr",
     "output_type": "stream",
     "text": [
      "100%|██████████| 782/782 [00:17<00:00, 45.98it/s]\n",
      "100%|██████████| 157/157 [00:02<00:00, 60.38it/s]\n"
     ]
    },
    {
     "name": "stdout",
     "output_type": "stream",
     "text": [
      "Epoch 3/5:\n",
      "Train Loss: 1.3566, Train Acc: 0.5217\n",
      "Test Loss: 1.4140, Test Acc: 0.5082\n",
      "--------------------------------------------------\n"
     ]
    },
    {
     "name": "stderr",
     "output_type": "stream",
     "text": [
      "100%|██████████| 782/782 [00:16<00:00, 46.52it/s]\n",
      "100%|██████████| 157/157 [00:03<00:00, 51.92it/s]\n"
     ]
    },
    {
     "name": "stdout",
     "output_type": "stream",
     "text": [
      "Epoch 4/5:\n",
      "Train Loss: 1.2719, Train Acc: 0.5499\n",
      "Test Loss: 1.3797, Test Acc: 0.5181\n",
      "--------------------------------------------------\n"
     ]
    },
    {
     "name": "stderr",
     "output_type": "stream",
     "text": [
      "100%|██████████| 782/782 [00:17<00:00, 45.26it/s]\n",
      "100%|██████████| 157/157 [00:02<00:00, 57.22it/s]\n"
     ]
    },
    {
     "name": "stdout",
     "output_type": "stream",
     "text": [
      "Epoch 5/5:\n",
      "Train Loss: 1.1915, Train Acc: 0.5786\n",
      "Test Loss: 1.3626, Test Acc: 0.5261\n",
      "--------------------------------------------------\n",
      "Time:  99.05 секунд\n",
      "Обучение модели: 7_layers\n"
     ]
    },
    {
     "name": "stderr",
     "output_type": "stream",
     "text": [
      "100%|██████████| 782/782 [00:17<00:00, 45.52it/s]\n",
      "100%|██████████| 157/157 [00:02<00:00, 54.75it/s]\n"
     ]
    },
    {
     "name": "stdout",
     "output_type": "stream",
     "text": [
      "Epoch 1/5:\n",
      "Train Loss: 1.7853, Train Acc: 0.3578\n",
      "Test Loss: 1.5745, Test Acc: 0.4460\n",
      "--------------------------------------------------\n"
     ]
    },
    {
     "name": "stderr",
     "output_type": "stream",
     "text": [
      "100%|██████████| 782/782 [00:17<00:00, 44.29it/s]\n",
      "100%|██████████| 157/157 [00:02<00:00, 57.34it/s]\n"
     ]
    },
    {
     "name": "stdout",
     "output_type": "stream",
     "text": [
      "Epoch 2/5:\n",
      "Train Loss: 1.5296, Train Acc: 0.4593\n",
      "Test Loss: 1.5148, Test Acc: 0.4606\n",
      "--------------------------------------------------\n"
     ]
    },
    {
     "name": "stderr",
     "output_type": "stream",
     "text": [
      "100%|██████████| 782/782 [00:17<00:00, 43.52it/s]\n",
      "100%|██████████| 157/157 [00:02<00:00, 55.97it/s]\n"
     ]
    },
    {
     "name": "stdout",
     "output_type": "stream",
     "text": [
      "Epoch 3/5:\n",
      "Train Loss: 1.4112, Train Acc: 0.5043\n",
      "Test Loss: 1.3984, Test Acc: 0.5144\n",
      "--------------------------------------------------\n"
     ]
    },
    {
     "name": "stderr",
     "output_type": "stream",
     "text": [
      "100%|██████████| 782/782 [00:17<00:00, 44.53it/s]\n",
      "100%|██████████| 157/157 [00:02<00:00, 60.56it/s]\n"
     ]
    },
    {
     "name": "stdout",
     "output_type": "stream",
     "text": [
      "Epoch 4/5:\n",
      "Train Loss: 1.3145, Train Acc: 0.5400\n",
      "Test Loss: 1.3856, Test Acc: 0.5212\n",
      "--------------------------------------------------\n"
     ]
    },
    {
     "name": "stderr",
     "output_type": "stream",
     "text": [
      "100%|██████████| 782/782 [00:17<00:00, 45.56it/s]\n",
      "100%|██████████| 157/157 [00:02<00:00, 53.06it/s]\n"
     ]
    },
    {
     "name": "stdout",
     "output_type": "stream",
     "text": [
      "Epoch 5/5:\n",
      "Train Loss: 1.2295, Train Acc: 0.5682\n",
      "Test Loss: 1.3673, Test Acc: 0.5200\n",
      "--------------------------------------------------\n",
      "Time:  101.52 секунд\n"
     ]
    }
   ],
   "source": [
    "from datasets import get_cifar_loaders\n",
    "\n",
    "device = torch.device('cuda' if torch.cuda.is_available() else 'cpu')\n",
    "train_loader, test_loader = get_cifar_loaders(batch_size=64)\n",
    "\n",
    "#Конфигурации слоёв\n",
    "layer_configs = {\n",
    "    \"1_layer\": [],\n",
    "    \"2_layers\": [\n",
    "        {\"type\": \"linear\", \"size\": 128},\n",
    "        {\"type\": \"relu\"}\n",
    "    ],\n",
    "    \"3_layers\": [\n",
    "        {\"type\": \"linear\", \"size\": 256},\n",
    "        {\"type\": \"relu\"},\n",
    "        {\"type\": \"linear\", \"size\": 128},\n",
    "        {\"type\": \"relu\"}\n",
    "    ],\n",
    "    \"5_layers\": [\n",
    "        {\"type\": \"linear\", \"size\": 512},\n",
    "        {\"type\": \"relu\"},\n",
    "        {\"type\": \"linear\", \"size\": 256},\n",
    "        {\"type\": \"relu\"},\n",
    "        {\"type\": \"linear\", \"size\": 128},\n",
    "        {\"type\": \"relu\"},\n",
    "        {\"type\": \"linear\", \"size\": 64},\n",
    "        {\"type\": \"relu\"}\n",
    "    ],\n",
    "    \"7_layers\": [\n",
    "        {\"type\": \"linear\", \"size\": 512},\n",
    "        {\"type\": \"relu\"},\n",
    "        {\"type\": \"linear\", \"size\": 256},\n",
    "        {\"type\": \"relu\"},\n",
    "        {\"type\": \"linear\", \"size\": 128},\n",
    "        {\"type\": \"relu\"},\n",
    "        {\"type\": \"linear\", \"size\": 64},\n",
    "        {\"type\": \"relu\"},\n",
    "        {\"type\": \"linear\", \"size\": 32},\n",
    "        {\"type\": \"relu\"},\n",
    "        {\"type\": \"linear\", \"size\": 16},\n",
    "        {\"type\": \"relu\"}\n",
    "    ]\n",
    "}\n",
    "\n",
    "#Запуск\n",
    "for name, layers in layer_configs.items():\n",
    "    print(f\"Обучение модели: {name}\")\n",
    "\n",
    "    model = FullyConnectedModel(\n",
    "        input_size=3072,\n",
    "        num_classes=10,\n",
    "        layers=layers\n",
    "    ).to(device)\n",
    "\n",
    "    #Замер времени\n",
    "    start_time = time.time()\n",
    "    history = train_model(model, train_loader, test_loader, epochs=5, device=str(device))\n",
    "    train_time = time.time() - start_time\n",
    "\n",
    "    print(f\"Time:  {train_time:.2f} секунд\")\n",
    "\n",
    "    #Сохранение графика\n",
    "    plot_path = f\"plots/{name}_cifar.png\"\n",
    "    plot_training_history(history, save_path=plot_path)"
   ]
  },
  {
   "cell_type": "markdown",
   "id": "0ad6b587",
   "metadata": {},
   "source": [
    "**Сохранил графики 1_layers_cifar и тд в plots, выводы о глубине в отчете**"
   ]
  },
  {
   "cell_type": "markdown",
   "id": "e44ddac1",
   "metadata": {},
   "source": [
    "Добавьте Dropout и BatchNorm, сравните результаты.\\\n",
    "Добавим для лучшей оптимальной глубины для mnist - 3 слоя (2скрытых, график - 3_layers_mnist),\\\n",
    "для cifar - 5 слоев (4скрытых, график - 5_layers_cifar)\n"
   ]
  },
  {
   "cell_type": "code",
   "execution_count": 8,
   "id": "a4d03c55",
   "metadata": {},
   "outputs": [
    {
     "name": "stdout",
     "output_type": "stream",
     "text": [
      "Dropout + BatchNorm: 3 layers MNIST\n"
     ]
    },
    {
     "name": "stderr",
     "output_type": "stream",
     "text": [
      "100%|██████████| 938/938 [00:16<00:00, 56.39it/s]\n",
      "100%|██████████| 157/157 [00:02<00:00, 66.77it/s]\n"
     ]
    },
    {
     "name": "stdout",
     "output_type": "stream",
     "text": [
      "Epoch 1/5:\n",
      "Train Loss: 0.4256, Train Acc: 0.8707\n",
      "Test Loss: 0.1534, Test Acc: 0.9525\n",
      "--------------------------------------------------\n"
     ]
    },
    {
     "name": "stderr",
     "output_type": "stream",
     "text": [
      "100%|██████████| 938/938 [00:16<00:00, 55.97it/s]\n",
      "100%|██████████| 157/157 [00:02<00:00, 66.34it/s]\n"
     ]
    },
    {
     "name": "stdout",
     "output_type": "stream",
     "text": [
      "Epoch 2/5:\n",
      "Train Loss: 0.2325, Train Acc: 0.9323\n",
      "Test Loss: 0.1190, Test Acc: 0.9643\n",
      "--------------------------------------------------\n"
     ]
    },
    {
     "name": "stderr",
     "output_type": "stream",
     "text": [
      "100%|██████████| 938/938 [00:16<00:00, 55.70it/s]\n",
      "100%|██████████| 157/157 [00:02<00:00, 66.44it/s]\n"
     ]
    },
    {
     "name": "stdout",
     "output_type": "stream",
     "text": [
      "Epoch 3/5:\n",
      "Train Loss: 0.1957, Train Acc: 0.9435\n",
      "Test Loss: 0.1041, Test Acc: 0.9688\n",
      "--------------------------------------------------\n"
     ]
    },
    {
     "name": "stderr",
     "output_type": "stream",
     "text": [
      "100%|██████████| 938/938 [00:17<00:00, 55.15it/s]\n",
      "100%|██████████| 157/157 [00:02<00:00, 66.20it/s]\n"
     ]
    },
    {
     "name": "stdout",
     "output_type": "stream",
     "text": [
      "Epoch 4/5:\n",
      "Train Loss: 0.1760, Train Acc: 0.9484\n",
      "Test Loss: 0.1007, Test Acc: 0.9707\n",
      "--------------------------------------------------\n"
     ]
    },
    {
     "name": "stderr",
     "output_type": "stream",
     "text": [
      "100%|██████████| 938/938 [00:16<00:00, 55.29it/s]\n",
      "100%|██████████| 157/157 [00:02<00:00, 64.47it/s]\n"
     ]
    },
    {
     "name": "stdout",
     "output_type": "stream",
     "text": [
      "Epoch 5/5:\n",
      "Train Loss: 0.1624, Train Acc: 0.9537\n",
      "Test Loss: 0.0972, Test Acc: 0.9709\n",
      "--------------------------------------------------\n",
      "MNIST time: 96.12 секунд\n",
      "Dropout + BatchNorm: 5 layers CIFAR\n"
     ]
    },
    {
     "name": "stderr",
     "output_type": "stream",
     "text": [
      "100%|██████████| 782/782 [00:16<00:00, 46.87it/s]\n",
      "100%|██████████| 157/157 [00:02<00:00, 55.95it/s]\n"
     ]
    },
    {
     "name": "stdout",
     "output_type": "stream",
     "text": [
      "Epoch 1/5:\n",
      "Train Loss: 2.0581, Train Acc: 0.2333\n",
      "Test Loss: 1.8627, Test Acc: 0.3371\n",
      "--------------------------------------------------\n"
     ]
    },
    {
     "name": "stderr",
     "output_type": "stream",
     "text": [
      "100%|██████████| 782/782 [00:18<00:00, 42.73it/s]\n",
      "100%|██████████| 157/157 [00:02<00:00, 56.82it/s]\n"
     ]
    },
    {
     "name": "stdout",
     "output_type": "stream",
     "text": [
      "Epoch 2/5:\n",
      "Train Loss: 1.9320, Train Acc: 0.2952\n",
      "Test Loss: 1.8153, Test Acc: 0.3559\n",
      "--------------------------------------------------\n"
     ]
    },
    {
     "name": "stderr",
     "output_type": "stream",
     "text": [
      "100%|██████████| 782/782 [00:18<00:00, 42.84it/s]\n",
      "100%|██████████| 157/157 [00:02<00:00, 56.90it/s]\n"
     ]
    },
    {
     "name": "stdout",
     "output_type": "stream",
     "text": [
      "Epoch 3/5:\n",
      "Train Loss: 1.8774, Train Acc: 0.3212\n",
      "Test Loss: 1.7549, Test Acc: 0.3823\n",
      "--------------------------------------------------\n"
     ]
    },
    {
     "name": "stderr",
     "output_type": "stream",
     "text": [
      "100%|██████████| 782/782 [00:18<00:00, 42.71it/s]\n",
      "100%|██████████| 157/157 [00:02<00:00, 54.45it/s]\n"
     ]
    },
    {
     "name": "stdout",
     "output_type": "stream",
     "text": [
      "Epoch 4/5:\n",
      "Train Loss: 1.8485, Train Acc: 0.3324\n",
      "Test Loss: 1.6903, Test Acc: 0.4018\n",
      "--------------------------------------------------\n"
     ]
    },
    {
     "name": "stderr",
     "output_type": "stream",
     "text": [
      "100%|██████████| 782/782 [00:18<00:00, 42.69it/s]\n",
      "100%|██████████| 157/157 [00:02<00:00, 63.44it/s]\n"
     ]
    },
    {
     "name": "stdout",
     "output_type": "stream",
     "text": [
      "Epoch 5/5:\n",
      "Train Loss: 1.8253, Train Acc: 0.3427\n",
      "Test Loss: 1.6951, Test Acc: 0.4074\n",
      "--------------------------------------------------\n",
      "CIFAR time: 103.58 секунд\n"
     ]
    }
   ],
   "source": [
    "# 3 слоя для MNIST с Dropout и BatchNorm\n",
    "mnist_l3_bn_do = [\n",
    "    {\"type\": \"linear\", \"size\": 256},\n",
    "    {\"type\": \"batchnorm\"},\n",
    "    {\"type\": \"relu\"},\n",
    "    {\"type\": \"dropout\", \"p\": 0.3},\n",
    "\n",
    "    {\"type\": \"linear\", \"size\": 128},\n",
    "    {\"type\": \"batchnorm\"},\n",
    "    {\"type\": \"relu\"},\n",
    "    {\"type\": \"dropout\", \"p\": 0.3}\n",
    "]\n",
    "\n",
    "# 5 слоёв для CIFAR с Dropout и BatchNorm\n",
    "cifar_l5_bn_do = [\n",
    "    {\"type\": \"linear\", \"size\": 512},\n",
    "    {\"type\": \"batchnorm\"},\n",
    "    {\"type\": \"relu\"},\n",
    "    {\"type\": \"dropout\", \"p\": 0.4},\n",
    "\n",
    "    {\"type\": \"linear\", \"size\": 256},\n",
    "    {\"type\": \"batchnorm\"},\n",
    "    {\"type\": \"relu\"},\n",
    "    {\"type\": \"dropout\", \"p\": 0.4},\n",
    "\n",
    "    {\"type\": \"linear\", \"size\": 128},\n",
    "    {\"type\": \"batchnorm\"},\n",
    "    {\"type\": \"relu\"},\n",
    "    {\"type\": \"dropout\", \"p\": 0.4},\n",
    "\n",
    "    {\"type\": \"linear\", \"size\": 64},\n",
    "    {\"type\": \"batchnorm\"},\n",
    "    {\"type\": \"relu\"},\n",
    "    {\"type\": \"dropout\", \"p\": 0.4}\n",
    "]\n",
    "# MNIST с 3 слоями\n",
    "print(\"Dropout + BatchNorm: 3 layers MNIST\")\n",
    "train_loader, test_loader = get_mnist_loaders(batch_size=64)\n",
    "mnist_model = FullyConnectedModel(\n",
    "    input_size=784,\n",
    "    num_classes=10,\n",
    "    layers=mnist_l3_bn_do\n",
    ").to(device)\n",
    "\n",
    "start_time = time.time()\n",
    "mnist_history = train_model(mnist_model, train_loader, test_loader, epochs=5, device=str(device))\n",
    "mnist_time = time.time() - start_time\n",
    "\n",
    "print(f\"MNIST time: {mnist_time:.2f} секунд\")\n",
    "plot_training_history(mnist_history, save_path=\"plots/3_layers_mnist_with_batch_and_dropout.png\")\n",
    "\n",
    "\n",
    "# CIFAR с 5 слоями\n",
    "print(\"Dropout + BatchNorm: 5 layers CIFAR\")\n",
    "train_loader_cifar, test_loader_cifar = get_cifar_loaders(batch_size=64)\n",
    "cifar_model = FullyConnectedModel(\n",
    "    input_size=3072,\n",
    "    num_classes=10,\n",
    "    layers=cifar_l5_bn_do\n",
    ").to(device)\n",
    "\n",
    "start_time = time.time()\n",
    "cifar_history = train_model(cifar_model, train_loader_cifar, test_loader_cifar, epochs=5, device=str(device))\n",
    "cifar_time = time.time() - start_time\n",
    "\n",
    "print(f\"CIFAR time: {cifar_time:.2f} секунд\")\n",
    "plot_training_history(cifar_history, save_path=\"plots/5_layers_cifar_with_batch_and_dropout.png\")"
   ]
  },
  {
   "cell_type": "markdown",
   "id": "3d1a0494",
   "metadata": {},
   "source": [
    "**Вывод в отчете**"
   ]
  }
 ],
 "metadata": {
  "kernelspec": {
   "display_name": "venv",
   "language": "python",
   "name": "python3"
  },
  "language_info": {
   "codemirror_mode": {
    "name": "ipython",
    "version": 3
   },
   "file_extension": ".py",
   "mimetype": "text/x-python",
   "name": "python",
   "nbconvert_exporter": "python",
   "pygments_lexer": "ipython3",
   "version": "3.13.5"
  }
 },
 "nbformat": 4,
 "nbformat_minor": 5
}
