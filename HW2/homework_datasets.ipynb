{
 "cells": [
  {
   "cell_type": "markdown",
   "id": "cb2105a4",
   "metadata": {},
   "source": [
    "**Задание 3: Сравнение производительности CPU vs CUDA (20 баллов)** \\\n",
    "**3.1 Подготовка данных (5 баллов)**"
   ]
  },
  {
   "cell_type": "code",
   "execution_count": 1,
   "id": "2985c552",
   "metadata": {},
   "outputs": [],
   "source": [
    "import torch\n",
    "tensor1 = torch.rand(64, 1024, 1024)# Матрица размером 64 × 1024 × 1024, заполненная случайными числами от 0 до 1\n",
    "tensor2 = torch.rand(128, 512, 512)\n",
    "tensor3 = torch.rand(256, 256, 256)"
   ]
  },
  {
   "cell_type": "markdown",
   "id": "f45819cc",
   "metadata": {},
   "source": [
    "**3.2 Функция измерения времени (5 баллов)**"
   ]
  },
  {
   "cell_type": "code",
   "execution_count": 19,
   "id": "fffc9822",
   "metadata": {},
   "outputs": [],
   "source": [
    "import time\n",
    "\n",
    "def time_cpu(func, *args):\n",
    "    \"\"\"\n",
    "    Измеряет время выполнения операции на CPU\n",
    "    \"\"\"\n",
    "    start = time.time() #начала выполнения функции\n",
    "    func(*args)  #вызываем функцию\n",
    "    end = time.time() #время окончания\n",
    "    return end - start\n",
    "def time_gpu(func, *args):\n",
    "    \"\"\"\n",
    "    Измеряет время выполнения операции на GPU \n",
    "    \"\"\"\n",
    "    start = torch.cuda.Event(enable_timing=True)\n",
    "    end = torch.cuda.Event(enable_timing=True)\n",
    "    \n",
    "    start.record() #начала выполнения функции\n",
    "    func(*args) #вызываем функцию\n",
    "    end.record() #фиксируем момент сразу ПОСЛЕ вызова операции\n",
    "    \n",
    "    torch.cuda.synchronize()  # ждём завершения всех операций на GPU\n",
    "    return start.elapsed_time(end) / 1000  # возвращаем время в секундах"
   ]
  },
  {
   "cell_type": "markdown",
   "id": "cf5905b1",
   "metadata": {},
   "source": [
    "**3.3 Сравнение операций (10 баллов)**"
   ]
  },
  {
   "cell_type": "code",
   "execution_count": 26,
   "id": "1dd01008",
   "metadata": {},
   "outputs": [
    {
     "name": "stdout",
     "output_type": "stream",
     "text": [
      "Операция                  |   CPU (мс) |   GPU (мс) |  Ускорение\n",
      "------------------------------------------------------------\n",
      "Мат. умножение            |     698.88 |      92.24 |       7.58x\n",
      "Сложение                  |      58.08 |       5.92 |       9.81x\n",
      "Поэлементное умножение    |      40.95 |       5.89 |       6.95x\n",
      "Транспонирование          |       0.04 |       0.00 |      19.21x\n",
      "Сумма элементов           |       9.89 |       1.54 |       6.42x\n"
     ]
    }
   ],
   "source": [
    "tensor1 = torch.rand(64, 1024, 1024)#поменял размеры тензоров, потому что невозможно умножение двух матриц, где столбец первой не соответствует строке второй и тд\n",
    "tensor2 = torch.rand(64, 1024, 1024)    \n",
    "tensor3 = torch.rand(64, 1024, 1024)    \n",
    "def matmul_op(a, b):\n",
    "    \"\"\"\n",
    "    Матричное умножение\n",
    "    \"\"\"\n",
    "    return torch.matmul(a,b)\n",
    "\n",
    "def add_op(a, b):\n",
    "    \"\"\"\n",
    "    Поэлементное сложение\n",
    "    \"\"\"\n",
    "    return a + b\n",
    "\n",
    "def mul_op(a, b):\n",
    "    \"\"\"\n",
    "    Поэлементное умножение\n",
    "    \"\"\"\n",
    "    return a * b\n",
    "\n",
    "def transpose_op(a):\n",
    "    \"\"\"\n",
    "    Транспонирование\n",
    "    \"\"\"\n",
    "    return a.T\n",
    "\n",
    "def sum_op(a):\n",
    "    \"\"\"\n",
    "    Вычисление суммы всех элементов\n",
    "    \"\"\"\n",
    "    return a.sum()\n",
    "\n",
    "device = 'CPU'\n",
    "\n",
    "results_CPU = {\n",
    "    \"Мат. умножение\": time_cpu(matmul_op, tensor1, tensor2),\n",
    "    \"Сложение\": time_cpu(add_op, tensor2, tensor3),\n",
    "    \"Поэлементное умножение\": time_cpu(mul_op, tensor2, tensor3),\n",
    "    \"Транспонирование\": time_cpu(transpose_op, tensor1),\n",
    "    \"Сумма элементов\": time_cpu(sum_op, tensor3),\n",
    "}\n",
    "\n",
    "device = 'cuda'\n",
    "t1 = tensor1.to(device)\n",
    "t2 = tensor2.to(device)\n",
    "t3 = tensor3.to(device)\n",
    "\n",
    "results_GPU = {\n",
    "    \"Мат. умножение\": time_gpu(matmul_op, t1, t2),\n",
    "    \"Сложение\": time_gpu(add_op, t2, t3),\n",
    "    \"Поэлементное умножение\": time_gpu(mul_op, t2, t3),\n",
    "    \"Транспонирование\": time_gpu(transpose_op, t1),\n",
    "    \"Сумма элементов\": time_gpu(sum_op, t3),\n",
    "}\n",
    "print(f\"{'Операция':<25} | {'CPU (мс)':>10} | {'GPU (мс)':>10} | {'Ускорение':>10}\")\n",
    "print(\"-\" * 60)\n",
    "for key in results_CPU:\n",
    "    cpu_time_ms = results_CPU[key] * 1000\n",
    "    gpu_time_ms = results_GPU[key] * 1000\n",
    "    speedup = cpu_time_ms / gpu_time_ms\n",
    "    print(f\"{key:<25} | {cpu_time_ms:10.2f} | {gpu_time_ms:10.2f} | {speedup:10.2f}x\")\n",
    "\n"
   ]
  },
  {
   "cell_type": "code",
   "execution_count": null,
   "id": "b01eb519",
   "metadata": {},
   "outputs": [],
   "source": []
  }
 ],
 "metadata": {
  "kernelspec": {
   "display_name": "venv",
   "language": "python",
   "name": "python3"
  },
  "language_info": {
   "codemirror_mode": {
    "name": "ipython",
    "version": 3
   },
   "file_extension": ".py",
   "mimetype": "text/x-python",
   "name": "python",
   "nbconvert_exporter": "python",
   "pygments_lexer": "ipython3",
   "version": "3.13.5"
  }
 },
 "nbformat": 4,
 "nbformat_minor": 5
}
