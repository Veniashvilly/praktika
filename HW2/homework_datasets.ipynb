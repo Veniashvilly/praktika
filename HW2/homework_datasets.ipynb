{
 "cells": [
  {
   "cell_type": "markdown",
   "id": "9df40d52",
   "metadata": {},
   "source": [
    "**Задание 2: Работа с датасетами (30 баллов)**\\\n",
    "**2.1 Кастомный Dataset класс (15 баллов)**"
   ]
  },
  {
   "cell_type": "code",
   "execution_count": 5,
   "id": "2328c5b1",
   "metadata": {},
   "outputs": [],
   "source": [
    "import pandas as pd\n",
    "import torch\n",
    "from torch.utils.data import Dataset\n",
    "from sklearn.preprocessing import StandardScaler, LabelEncoder\n",
    "import numpy as np\n",
    "\n",
    "class CustomCSVDataset(Dataset):\n",
    "    def __init__(self, filepath, target_col):\n",
    "        self.data = pd.read_csv(filepath) #Загружаем CSV-файл\n",
    "\n",
    "        self.data = self.data.dropna() #удаление строк с пропусками\n",
    "\n",
    "        self.X = self.data.drop(columns=[target_col]) #Отделяем признаки\n",
    "        self.y = self.data[target_col] #целевая\n",
    "\n",
    "        cat_cols = self.X.select_dtypes(include='object').columns #Находим категориальные признаки\n",
    "\n",
    "        #Кодируем категориальные признаки\n",
    "        for col in cat_cols:\n",
    "            self.X[col] = LabelEncoder().fit_transform(self.X[col])\n",
    "\n",
    "        num_cols = self.X.drop(columns=cat_cols).select_dtypes(include='number').columns #Находим числовые признаки (исключая категориальные)\n",
    "\n",
    "        #Нормализуем числовые признаки\n",
    "        scaler = StandardScaler()\n",
    "        self.X[num_cols] = scaler.fit_transform(self.X[num_cols])\n",
    "\n",
    "        # Если задача регрессии — нормализуем и y\n",
    "        if self.y.nunique() > 2:\n",
    "            self.y_scaler = StandardScaler()\n",
    "            self.y = self.y_scaler.fit_transform(self.y.values.reshape(-1, 1)).flatten()\n",
    "            self.is_regression = True\n",
    "        else:\n",
    "            self.y = LabelEncoder().fit_transform(self.y)\n",
    "            self.is_regression = False\n",
    "\n",
    "        self.X = torch.tensor(self.X.values, dtype=torch.float32)\n",
    "        self.y = torch.tensor(np.array(self.y), dtype=torch.float32 if self.is_regression else torch.long)\n",
    "\n",
    "    def __len__(self):\n",
    "        return len(self.y)\n",
    "\n",
    "    def __getitem__(self, idx):\n",
    "        return self.X[idx], self.y[idx]"
   ]
  },
  {
   "cell_type": "markdown",
   "id": "a78bbefb",
   "metadata": {},
   "source": [
    "**2.2 Эксперименты с различными датасетами (15 баллов)**"
   ]
  },
  {
   "cell_type": "markdown",
   "id": "ea455924",
   "metadata": {},
   "source": [
    "**Регрессия**"
   ]
  },
  {
   "cell_type": "code",
   "execution_count": null,
   "id": "a2e2ed2d",
   "metadata": {},
   "outputs": [
    {
     "name": "stdout",
     "output_type": "stream",
     "text": [
      "Epoch 10: loss=0.2341\n",
      "Epoch 20: loss=0.2340\n",
      "Epoch 30: loss=0.2337\n",
      "Epoch 40: loss=0.2341\n",
      "Epoch 50: loss=0.2344\n",
      "Epoch 60: loss=0.2346\n",
      "Epoch 70: loss=0.2331\n",
      "Epoch 80: loss=0.2341\n",
      "Epoch 90: loss=0.2342\n",
      "Epoch 100: loss=0.2338\n"
     ]
    }
   ],
   "source": [
    "import torch\n",
    "import torch.nn as nn\n",
    "import torch.optim as optim\n",
    "from torch.utils.data import DataLoader\n",
    "from utils import log_epoch\n",
    "\n",
    "# Класс линейной регрессии\n",
    "class LinearRegression(nn.Module):\n",
    "    def __init__(self, in_features):\n",
    "        super().__init__()\n",
    "        self.linear = nn.Linear(in_features, 1)\n",
    "\n",
    "    def forward(self, x):\n",
    "        return self.linear(x).squeeze(1)\n",
    "\n",
    "# Загружаем датасет\n",
    "dataset = CustomCSVDataset(filepath=\"car_data.csv\", target_col=\"price_usd\")\n",
    "dataloader = DataLoader(dataset, batch_size=32, shuffle=True)\n",
    "\n",
    "# Инициализируем модель\n",
    "model = LinearRegression(in_features=dataset.X.shape[1])\n",
    "criterion = nn.MSELoss()\n",
    "optimizer = optim.SGD(model.parameters(), lr=0.01)\n",
    "\n",
    "# Обучение модели\n",
    "epochs = 100\n",
    "for epoch in range(1, epochs + 1):\n",
    "    total_loss = 0\n",
    "    for batch_X, batch_y in dataloader:\n",
    "        optimizer.zero_grad()\n",
    "        y_pred = model(batch_X)\n",
    "        loss = criterion(y_pred, batch_y)\n",
    "        loss.backward()\n",
    "        optimizer.step()\n",
    "        total_loss += loss.item()\n",
    "    \n",
    "    avg_loss = total_loss / len(dataloader)\n",
    "    if epoch % 10 == 0:\n",
    "        log_epoch(epoch, avg_loss)"
   ]
  },
  {
   "cell_type": "markdown",
   "id": "d5f797d8",
   "metadata": {},
   "source": [
    "**Бинарная классификация**"
   ]
  },
  {
   "cell_type": "code",
   "execution_count": 21,
   "id": "8dcf63b1",
   "metadata": {},
   "outputs": [
    {
     "name": "stdout",
     "output_type": "stream",
     "text": [
      "Epoch 10: loss=0.6743\n",
      "Epoch 20: loss=0.6741\n",
      "Epoch 30: loss=0.6745\n",
      "Epoch 40: loss=0.6740\n",
      "Epoch 50: loss=0.6740\n",
      "Epoch 60: loss=0.6741\n",
      "Epoch 70: loss=0.6741\n",
      "Epoch 80: loss=0.6743\n",
      "Epoch 90: loss=0.6742\n",
      "Epoch 100: loss=0.6740\n"
     ]
    }
   ],
   "source": [
    "class LogisticRegression(nn.Module):\n",
    "    def __init__(self, in_features):\n",
    "        super().__init__()\n",
    "        self.linear = nn.Linear(in_features, 1)\n",
    "\n",
    "    def forward(self, x):\n",
    "        return torch.sigmoid(self.linear(x)).squeeze(1)\n",
    "\n",
    "# Загружаем датасет\n",
    "dataset = CustomCSVDataset(filepath=\"water_potability.csv\", target_col=\"Potability\")\n",
    "dataloader = DataLoader(dataset, batch_size=32, shuffle=True)\n",
    "\n",
    "# Инициализируем модель\n",
    "model = LogisticRegression(in_features=dataset.X.shape[1])\n",
    "criterion = nn.BCELoss()\n",
    "optimizer = optim.SGD(model.parameters(), lr=0.05)\n",
    "\n",
    "# Обучение модели\n",
    "epochs = 100\n",
    "for epoch in range(1, epochs + 1):\n",
    "    total_loss = 0\n",
    "    for batch_X, batch_y in dataloader:\n",
    "        optimizer.zero_grad()\n",
    "        y_pred = model(batch_X)\n",
    "        loss = criterion(y_pred, batch_y.float())\n",
    "        loss.backward()\n",
    "        optimizer.step()\n",
    "        total_loss += loss.item()\n",
    "    \n",
    "    avg_loss = total_loss / len(dataloader)\n",
    "    if epoch % 10 == 0:\n",
    "        log_epoch(epoch, avg_loss)\n"
   ]
  }
 ],
 "metadata": {
  "kernelspec": {
   "display_name": "venv",
   "language": "python",
   "name": "python3"
  },
  "language_info": {
   "codemirror_mode": {
    "name": "ipython",
    "version": 3
   },
   "file_extension": ".py",
   "mimetype": "text/x-python",
   "name": "python",
   "nbconvert_exporter": "python",
   "pygments_lexer": "ipython3",
   "version": "3.13.5"
  }
 },
 "nbformat": 4,
 "nbformat_minor": 5
}
